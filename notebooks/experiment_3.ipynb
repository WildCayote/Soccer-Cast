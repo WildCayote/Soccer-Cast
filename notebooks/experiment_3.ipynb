{
 "cells": [
  {
   "cell_type": "markdown",
   "metadata": {},
   "source": [
    "Import Statements"
   ]
  },
  {
   "cell_type": "code",
   "execution_count": 1,
   "metadata": {},
   "outputs": [],
   "source": [
    "import os , json , shutil"
   ]
  },
  {
   "cell_type": "markdown",
   "metadata": {},
   "source": [
    "All this notebook does is try to find the proper tournaments from the scraped data found in the folder leagues_old.\n",
    "\n",
    "I made a basic logical error while scrapping for leagues from sofascore and then instead of re-scrapping all of the leagues I decided that I could filter the leagues that aren't proper leagues instead they are league cups and the like."
   ]
  },
  {
   "cell_type": "code",
   "execution_count": 2,
   "metadata": {},
   "outputs": [],
   "source": [
    "old_scrapped = '../scraped_data/leagues_old'\n",
    "new_scrapped = '../scraped_data/leagues'\n",
    "valid_leagues_json = '../scraped_data/valid_leagues.json'"
   ]
  },
  {
   "cell_type": "markdown",
   "metadata": {},
   "source": [
    "Reading in the json that holds the valid leagues ids"
   ]
  },
  {
   "cell_type": "code",
   "execution_count": 3,
   "metadata": {},
   "outputs": [],
   "source": [
    "leagues_file = open(valid_leagues_json , 'r')\n",
    "valid_leagues = json.load(leagues_file)['data']\n",
    "valid_leagues = list(valid_leagues.keys())\n",
    "leagues_file.close()"
   ]
  },
  {
   "cell_type": "markdown",
   "metadata": {},
   "source": [
    "Looking through the leagues and moving the ones that are valid to the folder 'leagues'"
   ]
  },
  {
   "cell_type": "code",
   "execution_count": 4,
   "metadata": {},
   "outputs": [],
   "source": [
    "old_leagues = os.listdir(old_scrapped)\n",
    "\n",
    "proper_leagues = [league for league in old_leagues if league in valid_leagues]\n",
    "improper_leagues = [league for league in old_leagues if league not in valid_leagues]\n"
   ]
  },
  {
   "cell_type": "code",
   "execution_count": 5,
   "metadata": {},
   "outputs": [
    {
     "name": "stdout",
     "output_type": "stream",
     "text": [
      "There are 0 valid leagues in the previously scrapped data.\n",
      "There are 298 invalid leagues in the previously scrapped data. i.e 100.0 %\n"
     ]
    }
   ],
   "source": [
    "bad_ratio = len(improper_leagues) / len(old_leagues)\n",
    "\n",
    "print(f'There are {len(proper_leagues)} valid leagues in the previously scrapped data.')\n",
    "print(f'There are {len(improper_leagues)} invalid leagues in the previously scrapped data. i.e {bad_ratio * 100} %')"
   ]
  },
  {
   "cell_type": "markdown",
   "metadata": {},
   "source": [
    "Moving through the valid and already scrapped leagues and moving them to the folder with only containing leagues and not tournaments"
   ]
  },
  {
   "cell_type": "code",
   "execution_count": 6,
   "metadata": {},
   "outputs": [],
   "source": [
    "for league in proper_leagues:\n",
    "    source = os.path.join(old_scrapped , league)\n",
    "    destination = os.path.join(new_scrapped , league)\n",
    "    try:\n",
    "        shutil.move(src=source , dst=destination)\n",
    "    except FileNotFoundError: \n",
    "        print(f'{league} - not moved')\n",
    "        continue"
   ]
  },
  {
   "cell_type": "markdown",
   "metadata": {},
   "source": [
    "Making sure that all the leagues collected in the new folder are correct"
   ]
  },
  {
   "cell_type": "code",
   "execution_count": 7,
   "metadata": {},
   "outputs": [],
   "source": [
    "new_leagues = os.listdir(new_scrapped)\n",
    "\n",
    "proper_leagues = [league for league in new_leagues if league in valid_leagues]\n",
    "improper_leagues = [league for league in new_leagues if league not in valid_leagues]"
   ]
  },
  {
   "cell_type": "code",
   "execution_count": 8,
   "metadata": {},
   "outputs": [
    {
     "name": "stdout",
     "output_type": "stream",
     "text": [
      "There are 855 valid leagues in the previously scrapped data.\n",
      "There are 0 invalid leagues in the previously scrapped data. i.e 0.0 %\n"
     ]
    }
   ],
   "source": [
    "bad_ratio = len(improper_leagues) / len(new_leagues)\n",
    "\n",
    "print(f'There are {len(proper_leagues)} valid leagues in the previously scrapped data.')\n",
    "print(f'There are {len(improper_leagues)} invalid leagues in the previously scrapped data. i.e {bad_ratio * 100} %')"
   ]
  }
 ],
 "metadata": {
  "kernelspec": {
   "display_name": "Python 3",
   "language": "python",
   "name": "python3"
  },
  "language_info": {
   "codemirror_mode": {
    "name": "ipython",
    "version": 3
   },
   "file_extension": ".py",
   "mimetype": "text/x-python",
   "name": "python",
   "nbconvert_exporter": "python",
   "pygments_lexer": "ipython3",
   "version": "3.12.2"
  }
 },
 "nbformat": 4,
 "nbformat_minor": 2
}
