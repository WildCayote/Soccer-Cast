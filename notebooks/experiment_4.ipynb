{
 "cells": [
  {
   "cell_type": "markdown",
   "metadata": {},
   "source": [
    "This notebooks creates the compiled data of each league for all of the seasons I scraped and puts them in a folder called compiled_data"
   ]
  },
  {
   "cell_type": "code",
   "execution_count": null,
   "metadata": {},
   "outputs": [],
   "source": [
    "import os , shutil\n",
    "\n",
    "from predictor.pipelines.DataPreparationPipeline import TrainPrep"
   ]
  },
  {
   "cell_type": "code",
   "execution_count": null,
   "metadata": {},
   "outputs": [],
   "source": [
    "path_to_leagues = './scraped_data/leagues'\n",
    "save_path = './scraped_data/compiled'"
   ]
  },
  {
   "cell_type": "code",
   "execution_count": null,
   "metadata": {},
   "outputs": [],
   "source": [
    "error_list = []"
   ]
  },
  {
   "cell_type": "markdown",
   "metadata": {},
   "source": [
    "Loop through all the leagues and then compile the data using the TrainPrep class"
   ]
  },
  {
   "cell_type": "code",
   "execution_count": null,
   "metadata": {},
   "outputs": [],
   "source": [
    "leagues = os.listdir(path_to_leagues)\n",
    "for league in leagues:\n",
    "    league_path = os.path.join(path_to_leagues , league)\n",
    "    compiled_path = os.path.join(save_path , f'{league}_compiled.csv')\n",
    "\n",
    "    try:\n",
    "        # preparer\n",
    "        prep_pipe = TrainPrep(folder_path=league_path)\n",
    "        league_compiled  = prep_pipe.transform()\n",
    "        \n",
    "        # save the compiled data\n",
    "        league_compiled.to_csv(compiled_path)\n",
    "        print(f'The league {league} has {league_compiled.shape[0]} data points from {len(os.listdir(league_path))} season')\n",
    "    except Exception as e:\n",
    "        error_list.append(league)    \n",
    "\n"
   ]
  },
  {
   "cell_type": "code",
   "execution_count": null,
   "metadata": {},
   "outputs": [],
   "source": [
    "len(error_list)"
   ]
  },
  {
   "cell_type": "code",
   "execution_count": null,
   "metadata": {},
   "outputs": [],
   "source": [
    "for error in error_list:\n",
    "    path = os.path.join(path_to_leagues , error)\n",
    "    files = os.listdir(path)\n",
    "\n",
    "    for file in files:\n",
    "        name = file.split('.')\n",
    "        if len(name) == 1:\n",
    "            path_to_dir = os.path.join(path , file)\n",
    "            shutil.rmtree(path=path_to_dir)"
   ]
  },
  {
   "cell_type": "code",
   "execution_count": null,
   "metadata": {},
   "outputs": [],
   "source": [
    "for league in error_list:\n",
    "\n",
    "    league_path = os.path.join(path_to_leagues , league)\n",
    "    compiled_path = os.path.join(save_path , f'{league}_compiled.csv')\n",
    "\n",
    "    try:\n",
    "        # preparer\n",
    "        prep_pipe = TrainPrep(folder_path=league_path)\n",
    "        league_compiled  = prep_pipe.transform()\n",
    "        \n",
    "        # save the compiled data\n",
    "        league_compiled.to_csv(compiled_path)\n",
    "        print(f'The league {league} has {league_compiled.shape[0]} data points from {len(os.listdir(league_path))} season')\n",
    "    except Exception as e:\n",
    "        if league not in error_list:\n",
    "            error_list.append(league)"
   ]
  }
 ],
 "metadata": {
  "kernelspec": {
   "display_name": "Python 3",
   "language": "python",
   "name": "python3"
  },
  "language_info": {
   "codemirror_mode": {
    "name": "ipython",
    "version": 3
   },
   "file_extension": ".py",
   "mimetype": "text/x-python",
   "name": "python",
   "nbconvert_exporter": "python",
   "pygments_lexer": "ipython3",
   "version": "3.12.2"
  }
 },
 "nbformat": 4,
 "nbformat_minor": 2
}
