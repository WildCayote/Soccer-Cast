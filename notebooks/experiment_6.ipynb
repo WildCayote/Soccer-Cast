{
 "cells": [
  {
   "cell_type": "markdown",
   "metadata": {},
   "source": [
    "## Experiment description\n",
    "\n",
    "- A simple script for compiling the different league data into one csv file"
   ]
  },
  {
   "cell_type": "markdown",
   "metadata": {},
   "source": [
    "Imports"
   ]
  },
  {
   "cell_type": "code",
   "execution_count": 8,
   "metadata": {},
   "outputs": [],
   "source": [
    "import chardet, os\n",
    "import pandas as pd"
   ]
  },
  {
   "cell_type": "markdown",
   "metadata": {},
   "source": [
    "Constants"
   ]
  },
  {
   "cell_type": "code",
   "execution_count": 9,
   "metadata": {},
   "outputs": [],
   "source": [
    "DATA_PATH = '../scraped_data/compiled'\n",
    "OUTPUT_NAME = 'compiled_data'\n",
    "OUTPUT_PATH = '../scraped_data/single'"
   ]
  },
  {
   "cell_type": "markdown",
   "metadata": {},
   "source": [
    "Helper Functions"
   ]
  },
  {
   "cell_type": "code",
   "execution_count": 10,
   "metadata": {},
   "outputs": [],
   "source": [
    "def read_data(data_path : str):\n",
    "        \n",
    "        # Detect encoding   \n",
    "        with open(data_path, 'rb') as f:\n",
    "            result = chardet.detect(f.read())\n",
    "\n",
    "        # Read file with detected encoding\n",
    "        df = pd.read_csv(data_path, encoding=result['encoding'] , index_col=False)\n",
    "\n",
    "        return df"
   ]
  },
  {
   "cell_type": "markdown",
   "metadata": {},
   "source": [
    "\n",
    "------------------------------"
   ]
  },
  {
   "cell_type": "markdown",
   "metadata": {},
   "source": [
    "- Read and compile the data into one dataframe"
   ]
  },
  {
   "cell_type": "code",
   "execution_count": 11,
   "metadata": {},
   "outputs": [],
   "source": [
    "all_data = os.listdir(DATA_PATH)\n",
    "final_df = pd.DataFrame([])\n",
    "\n",
    "\n",
    "for league_data in all_data:\n",
    "    league_data_path = f'{DATA_PATH}/{league_data}'\n",
    "    csv_data = pd.read_csv(league_data_path , index_col=None)\n",
    "    final_df = pd.concat([final_df , csv_data])"
   ]
  },
  {
   "cell_type": "markdown",
   "metadata": {},
   "source": [
    "- Save the compiled data to the specified path with the specified name"
   ]
  },
  {
   "cell_type": "code",
   "execution_count": 12,
   "metadata": {},
   "outputs": [],
   "source": [
    "# remove the index column\n",
    "final_df = final_df.drop(columns=final_df.columns[0])"
   ]
  },
  {
   "cell_type": "code",
   "execution_count": 14,
   "metadata": {},
   "outputs": [],
   "source": [
    "# write the data\n",
    "save_path = f'{OUTPUT_PATH}/{OUTPUT_NAME}.csv'\n",
    "final_df.to_csv(save_path , index=False)"
   ]
  }
 ],
 "metadata": {
  "kernelspec": {
   "display_name": "Python 3",
   "language": "python",
   "name": "python3"
  },
  "language_info": {
   "codemirror_mode": {
    "name": "ipython",
    "version": 3
   },
   "file_extension": ".py",
   "mimetype": "text/x-python",
   "name": "python",
   "nbconvert_exporter": "python",
   "pygments_lexer": "ipython3",
   "version": "3.10.2"
  }
 },
 "nbformat": 4,
 "nbformat_minor": 2
}
