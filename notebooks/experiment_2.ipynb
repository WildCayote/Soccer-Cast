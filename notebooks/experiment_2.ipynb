{
 "cells": [
  {
   "cell_type": "markdown",
   "metadata": {},
   "source": [
    "### Import Statements"
   ]
  },
  {
   "cell_type": "code",
   "execution_count": 79,
   "metadata": {},
   "outputs": [],
   "source": [
    "import pandas as pd\n",
    "import numpy as np\n",
    "import math , chardet\n",
    "\n",
    "from sklearn.metrics import accuracy_score\n"
   ]
  },
  {
   "cell_type": "code",
   "execution_count": 80,
   "metadata": {},
   "outputs": [],
   "source": [
    "import mlflow\n",
    "import mlflow.sklearn"
   ]
  },
  {
   "cell_type": "code",
   "execution_count": 81,
   "metadata": {},
   "outputs": [],
   "source": [
    "base_path = './test_data/'\n",
    "league_path_one = '17_compiled.csv'\n",
    "league_path_two = '35_compiled.csv'\n",
    "league_path_three = '10295_compiled.csv'\n",
    "\n",
    "league_id = league_path_one.split('_')[0]\n",
    "\n",
    "league_id = '17_35'\n",
    "\n",
    "path_one = f'{base_path}{league_path_one}'\n",
    "path_two = f'{base_path}{league_path_two}'\n",
    "path_three = f'{base_path}{league_path_three}'"
   ]
  },
  {
   "cell_type": "markdown",
   "metadata": {},
   "source": [
    "Set the mlflow tracking uri to a folder inside the main Predictor directory"
   ]
  },
  {
   "cell_type": "code",
   "execution_count": 82,
   "metadata": {},
   "outputs": [],
   "source": [
    "uri = '../test_mlruns'\n",
    "experiment_name = f'{league_id}_notebook_experiment'\n",
    "\n",
    "mlflow.set_tracking_uri(uri=uri)\n",
    "\n",
    "try:\n",
    "    experiment_id = mlflow.create_experiment(experiment_name)\n",
    "except mlflow.exceptions.MlflowException:\n",
    "    search_result = mlflow.search_experiments(filter_string=f\"name = '{experiment_name}'\")\n",
    "    experiment_id = search_result[0].experiment_id"
   ]
  },
  {
   "cell_type": "code",
   "execution_count": 83,
   "metadata": {},
   "outputs": [
    {
     "data": {
      "text/plain": [
       "str"
      ]
     },
     "execution_count": 83,
     "metadata": {},
     "output_type": "execute_result"
    }
   ],
   "source": [
    "type(experiment_id)"
   ]
  },
  {
   "cell_type": "markdown",
   "metadata": {},
   "source": [
    "### Read in the transformed data in experiment_1"
   ]
  },
  {
   "cell_type": "code",
   "execution_count": 84,
   "metadata": {},
   "outputs": [],
   "source": [
    "def read_data(data_path : str):\n",
    "\n",
    "    # Detect encoding   \n",
    "    with open(data_path, 'rb') as f:\n",
    "        result = chardet.detect(f.read())\n",
    "    \n",
    "    # Read file with detected encoding\n",
    "    df = pd.read_csv(data_path, encoding=result['encoding'] , index_col=False)\n",
    "    \n",
    "    return df"
   ]
  },
  {
   "cell_type": "code",
   "execution_count": 85,
   "metadata": {},
   "outputs": [],
   "source": [
    "# trying it out with multiple league data\n",
    "\n",
    "df_one = read_data(path_one)\n",
    "df_two = read_data(path_two)\n",
    "df_three = read_data(path_three)\n",
    "\n",
    "df = pd.concat([df_one])"
   ]
  },
  {
   "cell_type": "code",
   "execution_count": 86,
   "metadata": {},
   "outputs": [
    {
     "data": {
      "text/plain": [
       "(7427, 46)"
      ]
     },
     "execution_count": 86,
     "metadata": {},
     "output_type": "execute_result"
    }
   ],
   "source": [
    "df.shape"
   ]
  },
  {
   "cell_type": "markdown",
   "metadata": {},
   "source": [
    "- Remove the index column"
   ]
  },
  {
   "cell_type": "code",
   "execution_count": 87,
   "metadata": {},
   "outputs": [],
   "source": [
    "df = df.drop(columns=[df.columns[0]])"
   ]
  },
  {
   "cell_type": "markdown",
   "metadata": {},
   "source": [
    "### Perform basic feature selection"
   ]
  },
  {
   "cell_type": "code",
   "execution_count": 88,
   "metadata": {},
   "outputs": [
    {
     "data": {
      "text/html": [
       "<div>\n",
       "<style scoped>\n",
       "    .dataframe tbody tr th:only-of-type {\n",
       "        vertical-align: middle;\n",
       "    }\n",
       "\n",
       "    .dataframe tbody tr th {\n",
       "        vertical-align: top;\n",
       "    }\n",
       "\n",
       "    .dataframe thead th {\n",
       "        text-align: right;\n",
       "    }\n",
       "</style>\n",
       "<table border=\"1\" class=\"dataframe\">\n",
       "  <thead>\n",
       "    <tr style=\"text-align: right;\">\n",
       "      <th></th>\n",
       "      <th>start_time</th>\n",
       "      <th>id</th>\n",
       "      <th>home_score</th>\n",
       "      <th>away_score</th>\n",
       "      <th>result</th>\n",
       "      <th>home_attack_strength</th>\n",
       "      <th>home_defence_strength</th>\n",
       "      <th>away_attack_strength</th>\n",
       "      <th>away_defence_strength</th>\n",
       "      <th>home_score_avg</th>\n",
       "      <th>...</th>\n",
       "      <th>home_win</th>\n",
       "      <th>away_win</th>\n",
       "      <th>home_double</th>\n",
       "      <th>away_double</th>\n",
       "      <th>under0.5</th>\n",
       "      <th>under1.5</th>\n",
       "      <th>under2.5</th>\n",
       "      <th>under3.5</th>\n",
       "      <th>under4.5</th>\n",
       "      <th>draw</th>\n",
       "    </tr>\n",
       "  </thead>\n",
       "  <tbody>\n",
       "    <tr>\n",
       "      <th>count</th>\n",
       "      <td>7.427000e+03</td>\n",
       "      <td>7.427000e+03</td>\n",
       "      <td>7427.000000</td>\n",
       "      <td>7427.000000</td>\n",
       "      <td>7427.000000</td>\n",
       "      <td>7427.000000</td>\n",
       "      <td>7427.000000</td>\n",
       "      <td>7427.000000</td>\n",
       "      <td>7427.000000</td>\n",
       "      <td>7427.000000</td>\n",
       "      <td>...</td>\n",
       "      <td>7427.000000</td>\n",
       "      <td>7427.000000</td>\n",
       "      <td>7427.000000</td>\n",
       "      <td>7427.000000</td>\n",
       "      <td>7427.000000</td>\n",
       "      <td>7427.000000</td>\n",
       "      <td>7427.000000</td>\n",
       "      <td>7427.000000</td>\n",
       "      <td>7427.000000</td>\n",
       "      <td>7427.000000</td>\n",
       "    </tr>\n",
       "    <tr>\n",
       "      <th>mean</th>\n",
       "      <td>1.374058e+09</td>\n",
       "      <td>4.277013e+06</td>\n",
       "      <td>1.518648</td>\n",
       "      <td>1.162784</td>\n",
       "      <td>1.791975</td>\n",
       "      <td>0.944246</td>\n",
       "      <td>0.941432</td>\n",
       "      <td>0.941411</td>\n",
       "      <td>0.943328</td>\n",
       "      <td>1.463109</td>\n",
       "      <td>...</td>\n",
       "      <td>0.456443</td>\n",
       "      <td>0.295274</td>\n",
       "      <td>0.704726</td>\n",
       "      <td>0.543557</td>\n",
       "      <td>0.078767</td>\n",
       "      <td>0.255015</td>\n",
       "      <td>0.493066</td>\n",
       "      <td>0.712266</td>\n",
       "      <td>0.867376</td>\n",
       "      <td>0.248283</td>\n",
       "    </tr>\n",
       "    <tr>\n",
       "      <th>std</th>\n",
       "      <td>1.831646e+08</td>\n",
       "      <td>3.660945e+06</td>\n",
       "      <td>1.303529</td>\n",
       "      <td>1.150428</td>\n",
       "      <td>0.813434</td>\n",
       "      <td>0.503392</td>\n",
       "      <td>0.499868</td>\n",
       "      <td>0.536468</td>\n",
       "      <td>0.474306</td>\n",
       "      <td>0.291466</td>\n",
       "      <td>...</td>\n",
       "      <td>0.498133</td>\n",
       "      <td>0.456197</td>\n",
       "      <td>0.456197</td>\n",
       "      <td>0.498133</td>\n",
       "      <td>0.269392</td>\n",
       "      <td>0.435899</td>\n",
       "      <td>0.499986</td>\n",
       "      <td>0.452737</td>\n",
       "      <td>0.339191</td>\n",
       "      <td>0.432046</td>\n",
       "    </tr>\n",
       "    <tr>\n",
       "      <th>min</th>\n",
       "      <td>1.061032e+09</td>\n",
       "      <td>4.004600e+04</td>\n",
       "      <td>0.000000</td>\n",
       "      <td>0.000000</td>\n",
       "      <td>1.000000</td>\n",
       "      <td>0.000000</td>\n",
       "      <td>0.000000</td>\n",
       "      <td>0.000000</td>\n",
       "      <td>0.000000</td>\n",
       "      <td>0.000000</td>\n",
       "      <td>...</td>\n",
       "      <td>0.000000</td>\n",
       "      <td>0.000000</td>\n",
       "      <td>0.000000</td>\n",
       "      <td>0.000000</td>\n",
       "      <td>0.000000</td>\n",
       "      <td>0.000000</td>\n",
       "      <td>0.000000</td>\n",
       "      <td>0.000000</td>\n",
       "      <td>0.000000</td>\n",
       "      <td>0.000000</td>\n",
       "    </tr>\n",
       "    <tr>\n",
       "      <th>25%</th>\n",
       "      <td>1.218979e+09</td>\n",
       "      <td>7.815145e+05</td>\n",
       "      <td>1.000000</td>\n",
       "      <td>0.000000</td>\n",
       "      <td>1.000000</td>\n",
       "      <td>0.675676</td>\n",
       "      <td>0.647994</td>\n",
       "      <td>0.615741</td>\n",
       "      <td>0.675676</td>\n",
       "      <td>1.428571</td>\n",
       "      <td>...</td>\n",
       "      <td>0.000000</td>\n",
       "      <td>0.000000</td>\n",
       "      <td>0.000000</td>\n",
       "      <td>0.000000</td>\n",
       "      <td>0.000000</td>\n",
       "      <td>0.000000</td>\n",
       "      <td>0.000000</td>\n",
       "      <td>0.000000</td>\n",
       "      <td>1.000000</td>\n",
       "      <td>0.000000</td>\n",
       "    </tr>\n",
       "    <tr>\n",
       "      <th>50%</th>\n",
       "      <td>1.377353e+09</td>\n",
       "      <td>3.964819e+06</td>\n",
       "      <td>1.000000</td>\n",
       "      <td>1.000000</td>\n",
       "      <td>2.000000</td>\n",
       "      <td>0.895522</td>\n",
       "      <td>0.944206</td>\n",
       "      <td>0.898876</td>\n",
       "      <td>0.954545</td>\n",
       "      <td>1.500000</td>\n",
       "      <td>...</td>\n",
       "      <td>0.000000</td>\n",
       "      <td>0.000000</td>\n",
       "      <td>1.000000</td>\n",
       "      <td>1.000000</td>\n",
       "      <td>0.000000</td>\n",
       "      <td>0.000000</td>\n",
       "      <td>0.000000</td>\n",
       "      <td>1.000000</td>\n",
       "      <td>1.000000</td>\n",
       "      <td>0.000000</td>\n",
       "    </tr>\n",
       "    <tr>\n",
       "      <th>75%</th>\n",
       "      <td>1.535206e+09</td>\n",
       "      <td>7.827906e+06</td>\n",
       "      <td>2.000000</td>\n",
       "      <td>2.000000</td>\n",
       "      <td>2.000000</td>\n",
       "      <td>1.191481</td>\n",
       "      <td>1.230637</td>\n",
       "      <td>1.245847</td>\n",
       "      <td>1.212890</td>\n",
       "      <td>1.582143</td>\n",
       "      <td>...</td>\n",
       "      <td>1.000000</td>\n",
       "      <td>1.000000</td>\n",
       "      <td>1.000000</td>\n",
       "      <td>1.000000</td>\n",
       "      <td>0.000000</td>\n",
       "      <td>1.000000</td>\n",
       "      <td>1.000000</td>\n",
       "      <td>1.000000</td>\n",
       "      <td>1.000000</td>\n",
       "      <td>0.000000</td>\n",
       "    </tr>\n",
       "    <tr>\n",
       "      <th>max</th>\n",
       "      <td>1.693150e+09</td>\n",
       "      <td>1.135252e+07</td>\n",
       "      <td>9.000000</td>\n",
       "      <td>9.000000</td>\n",
       "      <td>3.000000</td>\n",
       "      <td>5.000000</td>\n",
       "      <td>5.000000</td>\n",
       "      <td>5.217391</td>\n",
       "      <td>5.000000</td>\n",
       "      <td>2.500000</td>\n",
       "      <td>...</td>\n",
       "      <td>1.000000</td>\n",
       "      <td>1.000000</td>\n",
       "      <td>1.000000</td>\n",
       "      <td>1.000000</td>\n",
       "      <td>1.000000</td>\n",
       "      <td>1.000000</td>\n",
       "      <td>1.000000</td>\n",
       "      <td>1.000000</td>\n",
       "      <td>1.000000</td>\n",
       "      <td>1.000000</td>\n",
       "    </tr>\n",
       "  </tbody>\n",
       "</table>\n",
       "<p>8 rows × 43 columns</p>\n",
       "</div>"
      ],
      "text/plain": [
       "         start_time            id   home_score   away_score       result  \\\n",
       "count  7.427000e+03  7.427000e+03  7427.000000  7427.000000  7427.000000   \n",
       "mean   1.374058e+09  4.277013e+06     1.518648     1.162784     1.791975   \n",
       "std    1.831646e+08  3.660945e+06     1.303529     1.150428     0.813434   \n",
       "min    1.061032e+09  4.004600e+04     0.000000     0.000000     1.000000   \n",
       "25%    1.218979e+09  7.815145e+05     1.000000     0.000000     1.000000   \n",
       "50%    1.377353e+09  3.964819e+06     1.000000     1.000000     2.000000   \n",
       "75%    1.535206e+09  7.827906e+06     2.000000     2.000000     2.000000   \n",
       "max    1.693150e+09  1.135252e+07     9.000000     9.000000     3.000000   \n",
       "\n",
       "       home_attack_strength  home_defence_strength  away_attack_strength  \\\n",
       "count           7427.000000            7427.000000           7427.000000   \n",
       "mean               0.944246               0.941432              0.941411   \n",
       "std                0.503392               0.499868              0.536468   \n",
       "min                0.000000               0.000000              0.000000   \n",
       "25%                0.675676               0.647994              0.615741   \n",
       "50%                0.895522               0.944206              0.898876   \n",
       "75%                1.191481               1.230637              1.245847   \n",
       "max                5.000000               5.000000              5.217391   \n",
       "\n",
       "       away_defence_strength  home_score_avg  ...     home_win     away_win  \\\n",
       "count            7427.000000     7427.000000  ...  7427.000000  7427.000000   \n",
       "mean                0.943328        1.463109  ...     0.456443     0.295274   \n",
       "std                 0.474306        0.291466  ...     0.498133     0.456197   \n",
       "min                 0.000000        0.000000  ...     0.000000     0.000000   \n",
       "25%                 0.675676        1.428571  ...     0.000000     0.000000   \n",
       "50%                 0.954545        1.500000  ...     0.000000     0.000000   \n",
       "75%                 1.212890        1.582143  ...     1.000000     1.000000   \n",
       "max                 5.000000        2.500000  ...     1.000000     1.000000   \n",
       "\n",
       "       home_double  away_double     under0.5     under1.5     under2.5  \\\n",
       "count  7427.000000  7427.000000  7427.000000  7427.000000  7427.000000   \n",
       "mean      0.704726     0.543557     0.078767     0.255015     0.493066   \n",
       "std       0.456197     0.498133     0.269392     0.435899     0.499986   \n",
       "min       0.000000     0.000000     0.000000     0.000000     0.000000   \n",
       "25%       0.000000     0.000000     0.000000     0.000000     0.000000   \n",
       "50%       1.000000     1.000000     0.000000     0.000000     0.000000   \n",
       "75%       1.000000     1.000000     0.000000     1.000000     1.000000   \n",
       "max       1.000000     1.000000     1.000000     1.000000     1.000000   \n",
       "\n",
       "          under3.5     under4.5         draw  \n",
       "count  7427.000000  7427.000000  7427.000000  \n",
       "mean      0.712266     0.867376     0.248283  \n",
       "std       0.452737     0.339191     0.432046  \n",
       "min       0.000000     0.000000     0.000000  \n",
       "25%       0.000000     1.000000     0.000000  \n",
       "50%       1.000000     1.000000     0.000000  \n",
       "75%       1.000000     1.000000     0.000000  \n",
       "max       1.000000     1.000000     1.000000  \n",
       "\n",
       "[8 rows x 43 columns]"
      ]
     },
     "execution_count": 88,
     "metadata": {},
     "output_type": "execute_result"
    }
   ],
   "source": [
    "df.describe()"
   ]
  },
  {
   "cell_type": "markdown",
   "metadata": {},
   "source": [
    "- Remove games with too little history time , currently I defined it as having at least 1 game both home and away"
   ]
  },
  {
   "cell_type": "code",
   "execution_count": 89,
   "metadata": {},
   "outputs": [
    {
     "name": "stdout",
     "output_type": "stream",
     "text": [
      "Games with less than 3 games for a team : 1237\n",
      "Ratio of kept games : 0.8334455365558099\n"
     ]
    }
   ],
   "source": [
    "# drop games with little game info , i.e either the home team or away team has to little games in the current season\n",
    "min_games = 3\n",
    "\n",
    "dropped_df = df[(df['num_home_games'] >= min_games) & (df['num_away_games'] >= min_games)]\n",
    "\n",
    "kept_ration = dropped_df.shape[0] / df.shape[0]\n",
    "games_dropped = df.shape[0] - dropped_df.shape[0]\n",
    "\n",
    "print(f'Games with less than {min_games} games for a team : {games_dropped}')\n",
    "print(f'Ratio of kept games : {kept_ration}')"
   ]
  },
  {
   "cell_type": "markdown",
   "metadata": {},
   "source": [
    "- Remove unnecessary columns"
   ]
  },
  {
   "cell_type": "code",
   "execution_count": 90,
   "metadata": {},
   "outputs": [
    {
     "data": {
      "text/plain": [
       "Index(['start_time', 'id', 'home_team', 'away_team', 'home_score',\n",
       "       'away_score', 'result', 'home_attack_strength', 'home_defence_strength',\n",
       "       'away_attack_strength', 'away_defence_strength', 'home_score_avg',\n",
       "       'away_score_avg', 'home_expected_goal', 'away_expected_goal',\n",
       "       'home_elo', 'away_elo', '1', '2', 'x', '12', '1x', '2x', 'ov0.5',\n",
       "       'un0.5', 'ov1.5', 'un1.5', 'ov2.5', 'un2.5', 'ov3.5', 'un3.5', 'ov4.5',\n",
       "       'un4.5', 'num_home_games', 'num_away_games', 'home_win', 'away_win',\n",
       "       'home_double', 'away_double', 'under0.5', 'under1.5', 'under2.5',\n",
       "       'under3.5', 'under4.5', 'draw'],\n",
       "      dtype='object')"
      ]
     },
     "execution_count": 90,
     "metadata": {},
     "output_type": "execute_result"
    }
   ],
   "source": [
    "dropped_df.columns"
   ]
  },
  {
   "cell_type": "code",
   "execution_count": 91,
   "metadata": {},
   "outputs": [],
   "source": [
    "# drop the id and start time columns\n",
    "target_col = 'draw'\n",
    "keep_columns = ['home_attack_strength', 'home_defence_strength', 'away_attack_strength',\n",
    "       'away_defence_strength', 'home_expected_goal', 'away_expected_goal']\n",
    "remove_columns = [column for column in dropped_df.columns if column not in keep_columns and column != target_col ]\n",
    "\n",
    "\n",
    "dropped_df = dropped_df.drop(columns=remove_columns)"
   ]
  },
  {
   "cell_type": "code",
   "execution_count": 92,
   "metadata": {},
   "outputs": [
    {
     "data": {
      "text/html": [
       "<div>\n",
       "<style scoped>\n",
       "    .dataframe tbody tr th:only-of-type {\n",
       "        vertical-align: middle;\n",
       "    }\n",
       "\n",
       "    .dataframe tbody tr th {\n",
       "        vertical-align: top;\n",
       "    }\n",
       "\n",
       "    .dataframe thead th {\n",
       "        text-align: right;\n",
       "    }\n",
       "</style>\n",
       "<table border=\"1\" class=\"dataframe\">\n",
       "  <thead>\n",
       "    <tr style=\"text-align: right;\">\n",
       "      <th></th>\n",
       "      <th>home_attack_strength</th>\n",
       "      <th>home_defence_strength</th>\n",
       "      <th>away_attack_strength</th>\n",
       "      <th>away_defence_strength</th>\n",
       "      <th>home_expected_goal</th>\n",
       "      <th>away_expected_goal</th>\n",
       "      <th>draw</th>\n",
       "    </tr>\n",
       "  </thead>\n",
       "  <tbody>\n",
       "    <tr>\n",
       "      <th>count</th>\n",
       "      <td>6190.000000</td>\n",
       "      <td>6190.000000</td>\n",
       "      <td>6190.000000</td>\n",
       "      <td>6190.000000</td>\n",
       "      <td>6190.000000</td>\n",
       "      <td>6190.000000</td>\n",
       "      <td>6190.000000</td>\n",
       "    </tr>\n",
       "    <tr>\n",
       "      <th>mean</th>\n",
       "      <td>0.999824</td>\n",
       "      <td>0.999962</td>\n",
       "      <td>0.999927</td>\n",
       "      <td>0.999896</td>\n",
       "      <td>1.500032</td>\n",
       "      <td>1.164854</td>\n",
       "      <td>0.246365</td>\n",
       "    </tr>\n",
       "    <tr>\n",
       "      <th>std</th>\n",
       "      <td>0.396534</td>\n",
       "      <td>0.387611</td>\n",
       "      <td>0.437594</td>\n",
       "      <td>0.353672</td>\n",
       "      <td>0.804114</td>\n",
       "      <td>0.690907</td>\n",
       "      <td>0.430928</td>\n",
       "    </tr>\n",
       "    <tr>\n",
       "      <th>min</th>\n",
       "      <td>0.000000</td>\n",
       "      <td>0.000000</td>\n",
       "      <td>0.000000</td>\n",
       "      <td>0.000000</td>\n",
       "      <td>0.000000</td>\n",
       "      <td>0.000000</td>\n",
       "      <td>0.000000</td>\n",
       "    </tr>\n",
       "    <tr>\n",
       "      <th>25%</th>\n",
       "      <td>0.736358</td>\n",
       "      <td>0.727273</td>\n",
       "      <td>0.683003</td>\n",
       "      <td>0.754717</td>\n",
       "      <td>0.951064</td>\n",
       "      <td>0.672161</td>\n",
       "      <td>0.000000</td>\n",
       "    </tr>\n",
       "    <tr>\n",
       "      <th>50%</th>\n",
       "      <td>0.928794</td>\n",
       "      <td>0.981595</td>\n",
       "      <td>0.942029</td>\n",
       "      <td>0.989899</td>\n",
       "      <td>1.364861</td>\n",
       "      <td>1.032856</td>\n",
       "      <td>0.000000</td>\n",
       "    </tr>\n",
       "    <tr>\n",
       "      <th>75%</th>\n",
       "      <td>1.196346</td>\n",
       "      <td>1.235744</td>\n",
       "      <td>1.252367</td>\n",
       "      <td>1.224674</td>\n",
       "      <td>1.902360</td>\n",
       "      <td>1.523744</td>\n",
       "      <td>0.000000</td>\n",
       "    </tr>\n",
       "    <tr>\n",
       "      <th>max</th>\n",
       "      <td>3.214286</td>\n",
       "      <td>3.201220</td>\n",
       "      <td>3.216374</td>\n",
       "      <td>2.727273</td>\n",
       "      <td>7.112947</td>\n",
       "      <td>5.751678</td>\n",
       "      <td>1.000000</td>\n",
       "    </tr>\n",
       "  </tbody>\n",
       "</table>\n",
       "</div>"
      ],
      "text/plain": [
       "       home_attack_strength  home_defence_strength  away_attack_strength  \\\n",
       "count           6190.000000            6190.000000           6190.000000   \n",
       "mean               0.999824               0.999962              0.999927   \n",
       "std                0.396534               0.387611              0.437594   \n",
       "min                0.000000               0.000000              0.000000   \n",
       "25%                0.736358               0.727273              0.683003   \n",
       "50%                0.928794               0.981595              0.942029   \n",
       "75%                1.196346               1.235744              1.252367   \n",
       "max                3.214286               3.201220              3.216374   \n",
       "\n",
       "       away_defence_strength  home_expected_goal  away_expected_goal  \\\n",
       "count            6190.000000         6190.000000         6190.000000   \n",
       "mean                0.999896            1.500032            1.164854   \n",
       "std                 0.353672            0.804114            0.690907   \n",
       "min                 0.000000            0.000000            0.000000   \n",
       "25%                 0.754717            0.951064            0.672161   \n",
       "50%                 0.989899            1.364861            1.032856   \n",
       "75%                 1.224674            1.902360            1.523744   \n",
       "max                 2.727273            7.112947            5.751678   \n",
       "\n",
       "              draw  \n",
       "count  6190.000000  \n",
       "mean      0.246365  \n",
       "std       0.430928  \n",
       "min       0.000000  \n",
       "25%       0.000000  \n",
       "50%       0.000000  \n",
       "75%       0.000000  \n",
       "max       1.000000  "
      ]
     },
     "execution_count": 92,
     "metadata": {},
     "output_type": "execute_result"
    }
   ],
   "source": [
    "dropped_df.describe()"
   ]
  },
  {
   "cell_type": "markdown",
   "metadata": {},
   "source": [
    "- Check for null values"
   ]
  },
  {
   "cell_type": "code",
   "execution_count": 93,
   "metadata": {},
   "outputs": [
    {
     "data": {
      "text/plain": [
       "{'home_attack_strength': 0,\n",
       " 'home_defence_strength': 0,\n",
       " 'away_attack_strength': 0,\n",
       " 'away_defence_strength': 0,\n",
       " 'home_expected_goal': 0,\n",
       " 'away_expected_goal': 0,\n",
       " 'draw': 0}"
      ]
     },
     "execution_count": 93,
     "metadata": {},
     "output_type": "execute_result"
    }
   ],
   "source": [
    "dropped_df.isna().sum().to_dict()"
   ]
  },
  {
   "cell_type": "markdown",
   "metadata": {},
   "source": [
    "### 1.  Building models"
   ]
  },
  {
   "cell_type": "markdown",
   "metadata": {},
   "source": [
    "- Splitting the data"
   ]
  },
  {
   "cell_type": "code",
   "execution_count": 94,
   "metadata": {},
   "outputs": [],
   "source": [
    "predictor_cols = dropped_df.columns.tolist()\n",
    "predictor_cols.remove(target_col)\n",
    "\n",
    "# predictors\n",
    "X = dropped_df.drop(columns=target_col)\n",
    "\n",
    "# target\n",
    "y = dropped_df.drop(columns=predictor_cols)"
   ]
  },
  {
   "cell_type": "code",
   "execution_count": 95,
   "metadata": {},
   "outputs": [
    {
     "data": {
      "text/plain": [
       "Index(['home_attack_strength', 'home_defence_strength', 'away_attack_strength',\n",
       "       'away_defence_strength', 'home_expected_goal', 'away_expected_goal'],\n",
       "      dtype='object')"
      ]
     },
     "execution_count": 95,
     "metadata": {},
     "output_type": "execute_result"
    }
   ],
   "source": [
    "X.columns"
   ]
  },
  {
   "cell_type": "code",
   "execution_count": 96,
   "metadata": {},
   "outputs": [
    {
     "name": "stdout",
     "output_type": "stream",
     "text": [
      "(5571, 6)\n",
      "(619, 6)\n"
     ]
    }
   ],
   "source": [
    "from sklearn.model_selection import train_test_split\n",
    "\n",
    "X_train , X_test , y_train , y_test = train_test_split(X , y , test_size=0.1 , random_state=100)\n",
    "\n",
    "print(X_train.shape)\n",
    "print(X_test.shape)\n"
   ]
  },
  {
   "cell_type": "markdown",
   "metadata": {},
   "source": [
    "- Creating  , training , evaluating and logging models and their parameters"
   ]
  },
  {
   "cell_type": "markdown",
   "metadata": {},
   "source": [
    "1. Random Forest Classifier"
   ]
  },
  {
   "cell_type": "code",
   "execution_count": 97,
   "metadata": {},
   "outputs": [
    {
     "name": "stderr",
     "output_type": "stream",
     "text": [
      "c:\\Users\\VICTUS 16\\AppData\\Local\\Programs\\Python\\Python310\\lib\\site-packages\\sklearn\\base.py:1474: DataConversionWarning: A column-vector y was passed when a 1d array was expected. Please change the shape of y to (n_samples,), for example using ravel().\n",
      "  return fit_method(estimator, *args, **kwargs)\n"
     ]
    },
    {
     "name": "stderr",
     "output_type": "stream",
     "text": [
      "c:\\Users\\VICTUS 16\\AppData\\Local\\Programs\\Python\\Python310\\lib\\site-packages\\mlflow\\types\\utils.py:393: UserWarning: Hint: Inferred schema contains integer column(s). Integer columns in Python cannot represent missing values. If your input data contains missing values at inference time, it will be encoded as floats and will cause a schema enforcement error. The best way to avoid this problem is to infer the model schema based on a realistic data sample (training dataset) that includes missing values. Alternatively, you can declare integer columns as doubles (float64) whenever these columns may have missing values. See `Handling Integers With Missing Values <https://www.mlflow.org/docs/latest/models.html#handling-integers-with-missing-values>`_ for more details.\n",
      "  warnings.warn(\n",
      "c:\\Users\\VICTUS 16\\AppData\\Local\\Programs\\Python\\Python310\\lib\\site-packages\\_distutils_hack\\__init__.py:11: UserWarning: Distutils was imported before Setuptools, but importing Setuptools also replaces the `distutils` module in `sys.modules`. This may lead to undesirable behaviors or errors. To avoid these issues, avoid using distutils directly, ensure that setuptools is installed in the traditional way (e.g. not an editable install), and/or make sure that setuptools is always imported before distutils.\n",
      "  warnings.warn(\n",
      "c:\\Users\\VICTUS 16\\AppData\\Local\\Programs\\Python\\Python310\\lib\\site-packages\\_distutils_hack\\__init__.py:26: UserWarning: Setuptools is replacing distutils.\n",
      "  warnings.warn(\"Setuptools is replacing distutils.\")\n",
      "Successfully registered model 'random_forest_17_35_draw'.\n",
      "Created version '1' of model 'random_forest_17_35_draw'.\n"
     ]
    }
   ],
   "source": [
    "# Random forest classifier\n",
    "from sklearn.ensemble import RandomForestClassifier \n",
    "\n",
    "run_name = f'{league_id}_{target_col}_randomForest'\n",
    "\n",
    "\n",
    "with mlflow.start_run(run_name=run_name , experiment_id=experiment_id) as run:\n",
    "\n",
    "    # create and log the params\n",
    "    model_params = {'n_estimators' : 200 , 'random_state' : 42}\n",
    "    mlflow.log_params(model_params)\n",
    "    \n",
    "    # initialize and train the model\n",
    "    random_forest_cls = RandomForestClassifier(**model_params)\n",
    "    random_forest_cls.fit(X_train , y_train)\n",
    "\n",
    "    # prediction using random_forest\n",
    "    random_forest_predictions = random_forest_cls.predict(X_test)\n",
    "    random_forest_performance = accuracy_score(y_test , random_forest_predictions)\n",
    "\n",
    "    # log the performance\n",
    "    mlflow.log_metrics({'accuracy_score' : random_forest_performance})\n",
    "\n",
    "    # log the sklearn model\n",
    "    mlflow.sklearn.log_model(\n",
    "        sk_model=random_forest_cls, \n",
    "        artifact_path=\"models/random_forest\",\n",
    "        input_example=X_train,\n",
    "        registered_model_name=f\"random_forest_{league_id}_{target_col}\"\n",
    "        )\n"
   ]
  },
  {
   "cell_type": "markdown",
   "metadata": {},
   "source": [
    "2. SVM Classifier"
   ]
  },
  {
   "cell_type": "code",
   "execution_count": 98,
   "metadata": {},
   "outputs": [
    {
     "name": "stderr",
     "output_type": "stream",
     "text": [
      "c:\\Users\\VICTUS 16\\AppData\\Local\\Programs\\Python\\Python310\\lib\\site-packages\\sklearn\\utils\\validation.py:1300: DataConversionWarning: A column-vector y was passed when a 1d array was expected. Please change the shape of y to (n_samples, ), for example using ravel().\n",
      "  y = column_or_1d(y, warn=True)\n",
      "c:\\Users\\VICTUS 16\\AppData\\Local\\Programs\\Python\\Python310\\lib\\site-packages\\mlflow\\types\\utils.py:393: UserWarning: Hint: Inferred schema contains integer column(s). Integer columns in Python cannot represent missing values. If your input data contains missing values at inference time, it will be encoded as floats and will cause a schema enforcement error. The best way to avoid this problem is to infer the model schema based on a realistic data sample (training dataset) that includes missing values. Alternatively, you can declare integer columns as doubles (float64) whenever these columns may have missing values. See `Handling Integers With Missing Values <https://www.mlflow.org/docs/latest/models.html#handling-integers-with-missing-values>`_ for more details.\n",
      "  warnings.warn(\n",
      "c:\\Users\\VICTUS 16\\AppData\\Local\\Programs\\Python\\Python310\\lib\\site-packages\\_distutils_hack\\__init__.py:11: UserWarning: Distutils was imported before Setuptools, but importing Setuptools also replaces the `distutils` module in `sys.modules`. This may lead to undesirable behaviors or errors. To avoid these issues, avoid using distutils directly, ensure that setuptools is installed in the traditional way (e.g. not an editable install), and/or make sure that setuptools is always imported before distutils.\n",
      "  warnings.warn(\n",
      "c:\\Users\\VICTUS 16\\AppData\\Local\\Programs\\Python\\Python310\\lib\\site-packages\\_distutils_hack\\__init__.py:26: UserWarning: Setuptools is replacing distutils.\n",
      "  warnings.warn(\"Setuptools is replacing distutils.\")\n",
      "Successfully registered model 'svm_17_35_draw'.\n",
      "Created version '1' of model 'svm_17_35_draw'.\n"
     ]
    }
   ],
   "source": [
    "# SVM classifier\n",
    "from sklearn.svm import SVC\n",
    "\n",
    "run_name = f'{league_id}_{target_col}_SVM'\n",
    "\n",
    "with mlflow.start_run(run_name=run_name , experiment_id=experiment_id  ) as run:\n",
    "\n",
    "    # create and log model params\n",
    "    model_params = {'kernel' : 'rbf' , 'random_state' : 1}\n",
    "    mlflow.log_params(model_params)\n",
    "\n",
    "    # initialize and train the model\n",
    "    svm_cls = SVC(**model_params)\n",
    "    svm_cls.fit(X_train , y_train)\n",
    "    \n",
    "    # predictions using svm\n",
    "    svm_predictions = svm_cls.predict(X_test)\n",
    "    svm_performance = accuracy_score(y_test , svm_predictions)\n",
    "\n",
    "    # log performance\n",
    "    mlflow.log_metrics({'accuracy_score' : svm_performance})\n",
    "\n",
    "    # log the model\n",
    "    mlflow.sklearn.log_model(\n",
    "        sk_model=svm_cls,\n",
    "        artifact_path='models/svm',\n",
    "        input_example=X_train,\n",
    "        registered_model_name=f'svm_{league_id}_{target_col}'\n",
    "    )"
   ]
  },
  {
   "cell_type": "markdown",
   "metadata": {},
   "source": [
    "3. Multi Layer Perceptron Classifier"
   ]
  },
  {
   "cell_type": "code",
   "execution_count": 111,
   "metadata": {},
   "outputs": [
    {
     "name": "stderr",
     "output_type": "stream",
     "text": [
      "c:\\Users\\VICTUS 16\\AppData\\Local\\Programs\\Python\\Python310\\lib\\site-packages\\sklearn\\neural_network\\_multilayer_perceptron.py:1101: DataConversionWarning: A column-vector y was passed when a 1d array was expected. Please change the shape of y to (n_samples, ), for example using ravel().\n",
      "  y = column_or_1d(y, warn=True)\n",
      "c:\\Users\\VICTUS 16\\AppData\\Local\\Programs\\Python\\Python310\\lib\\site-packages\\mlflow\\types\\utils.py:393: UserWarning: Hint: Inferred schema contains integer column(s). Integer columns in Python cannot represent missing values. If your input data contains missing values at inference time, it will be encoded as floats and will cause a schema enforcement error. The best way to avoid this problem is to infer the model schema based on a realistic data sample (training dataset) that includes missing values. Alternatively, you can declare integer columns as doubles (float64) whenever these columns may have missing values. See `Handling Integers With Missing Values <https://www.mlflow.org/docs/latest/models.html#handling-integers-with-missing-values>`_ for more details.\n",
      "  warnings.warn(\n",
      "c:\\Users\\VICTUS 16\\AppData\\Local\\Programs\\Python\\Python310\\lib\\site-packages\\_distutils_hack\\__init__.py:11: UserWarning: Distutils was imported before Setuptools, but importing Setuptools also replaces the `distutils` module in `sys.modules`. This may lead to undesirable behaviors or errors. To avoid these issues, avoid using distutils directly, ensure that setuptools is installed in the traditional way (e.g. not an editable install), and/or make sure that setuptools is always imported before distutils.\n",
      "  warnings.warn(\n",
      "c:\\Users\\VICTUS 16\\AppData\\Local\\Programs\\Python\\Python310\\lib\\site-packages\\_distutils_hack\\__init__.py:26: UserWarning: Setuptools is replacing distutils.\n",
      "  warnings.warn(\"Setuptools is replacing distutils.\")\n",
      "Registered model 'mlp_17_35_draw' already exists. Creating a new version of this model...\n",
      "Created version '3' of model 'mlp_17_35_draw'.\n"
     ]
    }
   ],
   "source": [
    "# Multi Layer Classifier\n",
    "from sklearn.neural_network import MLPClassifier\n",
    "\n",
    "run_name = f'{league_id}_{target_col}_MLP'\n",
    "\n",
    "with mlflow.start_run(run_name=run_name , experiment_id=experiment_id) as run:\n",
    "    \n",
    "    # create and log model parameters\n",
    "    model_params = {'hidden_layer_sizes' : (40,),\n",
    "                    'max_iter' : 100,\n",
    "                    'alpha' : 1e-4,\n",
    "                    'solver' : 'adam',\n",
    "                    'random_state' : 1,\n",
    "                    'learning_rate_init' : 0.2,\n",
    "                    'learning_rate' : 'adaptive',\n",
    "                    'early_stopping' : True}\n",
    "    \n",
    "    mlflow.log_params(model_params)\n",
    "\n",
    "    # initialize and train the model\n",
    "    mlp_cls = MLPClassifier(**model_params)\n",
    "    mlp_cls.fit(X_train , y_train)\n",
    "\n",
    "    # predictions using MLP \n",
    "    mlp_predictions = mlp_cls.predict(X_test)\n",
    "    mlp_performance = accuracy_score(y_test , mlp_predictions)\n",
    "    \n",
    "    # log performance\n",
    "    mlflow.log_metrics({'accuracy_score' : mlp_performance})\n",
    "\n",
    "    # log the model\n",
    "    mlflow.sklearn.log_model(\n",
    "        sk_model=mlp_cls,\n",
    "        artifact_path='models/mlp',\n",
    "        input_example=X_train,\n",
    "        registered_model_name=f'mlp_{league_id}_{target_col}'\n",
    "    )\n",
    "\n"
   ]
  },
  {
   "cell_type": "markdown",
   "metadata": {},
   "source": [
    "4. Gradient Boosting Classifier"
   ]
  },
  {
   "cell_type": "code",
   "execution_count": 100,
   "metadata": {},
   "outputs": [
    {
     "name": "stderr",
     "output_type": "stream",
     "text": [
      "c:\\Users\\VICTUS 16\\AppData\\Local\\Programs\\Python\\Python310\\lib\\site-packages\\sklearn\\preprocessing\\_label.py:114: DataConversionWarning: A column-vector y was passed when a 1d array was expected. Please change the shape of y to (n_samples, ), for example using ravel().\n",
      "  y = column_or_1d(y, warn=True)\n",
      "c:\\Users\\VICTUS 16\\AppData\\Local\\Programs\\Python\\Python310\\lib\\site-packages\\mlflow\\types\\utils.py:393: UserWarning: Hint: Inferred schema contains integer column(s). Integer columns in Python cannot represent missing values. If your input data contains missing values at inference time, it will be encoded as floats and will cause a schema enforcement error. The best way to avoid this problem is to infer the model schema based on a realistic data sample (training dataset) that includes missing values. Alternatively, you can declare integer columns as doubles (float64) whenever these columns may have missing values. See `Handling Integers With Missing Values <https://www.mlflow.org/docs/latest/models.html#handling-integers-with-missing-values>`_ for more details.\n",
      "  warnings.warn(\n",
      "c:\\Users\\VICTUS 16\\AppData\\Local\\Programs\\Python\\Python310\\lib\\site-packages\\_distutils_hack\\__init__.py:11: UserWarning: Distutils was imported before Setuptools, but importing Setuptools also replaces the `distutils` module in `sys.modules`. This may lead to undesirable behaviors or errors. To avoid these issues, avoid using distutils directly, ensure that setuptools is installed in the traditional way (e.g. not an editable install), and/or make sure that setuptools is always imported before distutils.\n",
      "  warnings.warn(\n",
      "c:\\Users\\VICTUS 16\\AppData\\Local\\Programs\\Python\\Python310\\lib\\site-packages\\_distutils_hack\\__init__.py:26: UserWarning: Setuptools is replacing distutils.\n",
      "  warnings.warn(\"Setuptools is replacing distutils.\")\n",
      "Successfully registered model 'graddient_boosting_17_35_draw'.\n",
      "Created version '1' of model 'graddient_boosting_17_35_draw'.\n"
     ]
    }
   ],
   "source": [
    "# Gradient boosting classifier\n",
    "from sklearn.ensemble import GradientBoostingClassifier\n",
    "\n",
    "run_name = f'{league_id}_{target_col}_GDBoost'\n",
    "\n",
    "with mlflow.start_run(run_name=run_name , experiment_id=experiment_id):\n",
    "    \n",
    "    # create and log model parameters\n",
    "    model_params = {\n",
    "        'n_estimators' : 350,\n",
    "        'learning_rate' : 1,\n",
    "        'max_depth' : 1,\n",
    "        'random_state' : 1\n",
    "    }\n",
    "\n",
    "    mlflow.log_params(model_params)\n",
    "\n",
    "    # initialize and train the model\n",
    "    gb_cls = GradientBoostingClassifier(**model_params)\n",
    "    gb_cls.fit(X_train , y_train)\n",
    "\n",
    "    # predictions using Gradient Boosting Classifier\n",
    "    gb_predictions = gb_cls.predict(X_test)\n",
    "    gb_perfomance = accuracy_score(y_test , gb_predictions)\n",
    "\n",
    "    # log performance\n",
    "    mlflow.log_metrics({'accuracy_score' : gb_perfomance})\n",
    "\n",
    "    # log the model\n",
    "    mlflow.sklearn.log_model(\n",
    "        sk_model=gb_cls,\n",
    "        artifact_path='models/gradient_boosting',\n",
    "        input_example=X_train,\n",
    "        registered_model_name=f'graddient_boosting_{league_id}_{target_col}'\n",
    "    )"
   ]
  },
  {
   "cell_type": "markdown",
   "metadata": {},
   "source": [
    "5. Passive Aggressive Classifier"
   ]
  },
  {
   "cell_type": "code",
   "execution_count": 101,
   "metadata": {},
   "outputs": [
    {
     "name": "stderr",
     "output_type": "stream",
     "text": [
      "c:\\Users\\VICTUS 16\\AppData\\Local\\Programs\\Python\\Python310\\lib\\site-packages\\sklearn\\utils\\validation.py:1300: DataConversionWarning: A column-vector y was passed when a 1d array was expected. Please change the shape of y to (n_samples, ), for example using ravel().\n",
      "  y = column_or_1d(y, warn=True)\n",
      "c:\\Users\\VICTUS 16\\AppData\\Local\\Programs\\Python\\Python310\\lib\\site-packages\\mlflow\\types\\utils.py:393: UserWarning: Hint: Inferred schema contains integer column(s). Integer columns in Python cannot represent missing values. If your input data contains missing values at inference time, it will be encoded as floats and will cause a schema enforcement error. The best way to avoid this problem is to infer the model schema based on a realistic data sample (training dataset) that includes missing values. Alternatively, you can declare integer columns as doubles (float64) whenever these columns may have missing values. See `Handling Integers With Missing Values <https://www.mlflow.org/docs/latest/models.html#handling-integers-with-missing-values>`_ for more details.\n",
      "  warnings.warn(\n",
      "c:\\Users\\VICTUS 16\\AppData\\Local\\Programs\\Python\\Python310\\lib\\site-packages\\_distutils_hack\\__init__.py:11: UserWarning: Distutils was imported before Setuptools, but importing Setuptools also replaces the `distutils` module in `sys.modules`. This may lead to undesirable behaviors or errors. To avoid these issues, avoid using distutils directly, ensure that setuptools is installed in the traditional way (e.g. not an editable install), and/or make sure that setuptools is always imported before distutils.\n",
      "  warnings.warn(\n",
      "c:\\Users\\VICTUS 16\\AppData\\Local\\Programs\\Python\\Python310\\lib\\site-packages\\_distutils_hack\\__init__.py:26: UserWarning: Setuptools is replacing distutils.\n",
      "  warnings.warn(\"Setuptools is replacing distutils.\")\n",
      "Successfully registered model 'passive_aggressive_17_35_draw'.\n",
      "Created version '1' of model 'passive_aggressive_17_35_draw'.\n"
     ]
    }
   ],
   "source": [
    "# Passive Aggressive Classififer\n",
    "from sklearn.linear_model import PassiveAggressiveClassifier\n",
    "\n",
    "run_name = f'{league_id}_{target_col}_passiveAggressive'\n",
    "\n",
    "with mlflow.start_run(run_name=run_name , experiment_id=experiment_id):\n",
    "\n",
    "    # create and log model parameters\n",
    "    model_params = {\n",
    "        'max_iter' : 100,\n",
    "        'random_state' : 42\n",
    "    }\n",
    "\n",
    "    mlflow.log_metrics(model_params)\n",
    "\n",
    "    # initialize and train the model\n",
    "    passive_aggressive_cls = PassiveAggressiveClassifier(**model_params)\n",
    "    passive_aggressive_cls.fit(X_train , y_train)\n",
    "\n",
    "    # predictions using Passive Aggressive Classifier\n",
    "    pass_aggr_predictions = passive_aggressive_cls.predict(X_test)\n",
    "    pass_aggr_performance = accuracy_score(y_test , pass_aggr_predictions)\n",
    "\n",
    "    #log performance\n",
    "    mlflow.log_metrics({'accuracy_score' : pass_aggr_performance})\n",
    "\n",
    "    # log the model\n",
    "    mlflow.sklearn.log_model(\n",
    "        sk_model=passive_aggressive_cls,\n",
    "        artifact_path='models/passive_aggressive',\n",
    "        input_example=X_train,\n",
    "        registered_model_name=f'passive_aggressive_{league_id}_{target_col}'\n",
    "    )"
   ]
  },
  {
   "cell_type": "code",
   "execution_count": 102,
   "metadata": {},
   "outputs": [
    {
     "name": "stdout",
     "output_type": "stream",
     "text": [
      "Random forrest : 0.7495961227786753\n",
      "SVM : 0.7689822294022617\n",
      "MLP : 0.7689822294022617\n",
      "Gradient Boosting : 0.7673667205169629\n",
      "Passive Aggressive : 0.2310177705977383\n"
     ]
    }
   ],
   "source": [
    "print(f'Random forrest : {random_forest_performance}')\n",
    "print(f'SVM : {svm_performance}')\n",
    "print(f'MLP : {mlp_performance}')\n",
    "print(f'Gradient Boosting : {gb_perfomance}')\n",
    "print(f'Passive Aggressive : {pass_aggr_performance}')"
   ]
  },
  {
   "cell_type": "markdown",
   "metadata": {},
   "source": [
    "- Trying out different ensemble methods"
   ]
  },
  {
   "cell_type": "code",
   "execution_count": 103,
   "metadata": {},
   "outputs": [],
   "source": [
    "classifiers = [('Random Forrest' , random_forest_cls), \n",
    "               ('SVM' , svm_cls),\n",
    "               ('MLP' , mlp_cls),\n",
    "               ('Gradient Boosting' , gb_cls),\n",
    "               ('Passive Aggressive' , passive_aggressive_cls)]"
   ]
  },
  {
   "cell_type": "markdown",
   "metadata": {},
   "source": [
    "6. Votting Ensemble"
   ]
  },
  {
   "cell_type": "code",
   "execution_count": 112,
   "metadata": {},
   "outputs": [
    {
     "name": "stderr",
     "output_type": "stream",
     "text": [
      "c:\\Users\\VICTUS 16\\AppData\\Local\\Programs\\Python\\Python310\\lib\\site-packages\\sklearn\\preprocessing\\_label.py:97: DataConversionWarning: A column-vector y was passed when a 1d array was expected. Please change the shape of y to (n_samples, ), for example using ravel().\n",
      "  y = column_or_1d(y, warn=True)\n",
      "c:\\Users\\VICTUS 16\\AppData\\Local\\Programs\\Python\\Python310\\lib\\site-packages\\sklearn\\preprocessing\\_label.py:132: DataConversionWarning: A column-vector y was passed when a 1d array was expected. Please change the shape of y to (n_samples, ), for example using ravel().\n",
      "  y = column_or_1d(y, dtype=self.classes_.dtype, warn=True)\n"
     ]
    },
    {
     "name": "stdout",
     "output_type": "stream",
     "text": [
      "Iteration 1, loss = 0.73221003\n",
      "Validation score: 0.752688\n",
      "Iteration 2, loss = 0.56155825\n",
      "Validation score: 0.752688\n",
      "Iteration 3, loss = 0.56094984\n",
      "Validation score: 0.752688\n",
      "Iteration 4, loss = 0.56058628\n",
      "Validation score: 0.752688\n",
      "Iteration 5, loss = 0.56109398\n",
      "Validation score: 0.752688\n",
      "Iteration 6, loss = 0.56066988\n",
      "Validation score: 0.752688\n",
      "Iteration 7, loss = 0.56100290\n",
      "Validation score: 0.752688\n",
      "Iteration 8, loss = 0.56038605\n",
      "Validation score: 0.752688\n",
      "Iteration 9, loss = 0.56099385\n",
      "Validation score: 0.752688\n",
      "Iteration 10, loss = 0.56129364\n",
      "Validation score: 0.752688\n",
      "Iteration 11, loss = 0.56380939\n",
      "Validation score: 0.752688\n",
      "Iteration 12, loss = 0.56724725\n",
      "Validation score: 0.752688\n",
      "Validation score did not improve more than tol=0.000100 for 10 consecutive epochs. Stopping.\n"
     ]
    },
    {
     "name": "stderr",
     "output_type": "stream",
     "text": [
      "c:\\Users\\VICTUS 16\\AppData\\Local\\Programs\\Python\\Python310\\lib\\site-packages\\mlflow\\types\\utils.py:393: UserWarning: Hint: Inferred schema contains integer column(s). Integer columns in Python cannot represent missing values. If your input data contains missing values at inference time, it will be encoded as floats and will cause a schema enforcement error. The best way to avoid this problem is to infer the model schema based on a realistic data sample (training dataset) that includes missing values. Alternatively, you can declare integer columns as doubles (float64) whenever these columns may have missing values. See `Handling Integers With Missing Values <https://www.mlflow.org/docs/latest/models.html#handling-integers-with-missing-values>`_ for more details.\n",
      "  warnings.warn(\n",
      "c:\\Users\\VICTUS 16\\AppData\\Local\\Programs\\Python\\Python310\\lib\\site-packages\\_distutils_hack\\__init__.py:11: UserWarning: Distutils was imported before Setuptools, but importing Setuptools also replaces the `distutils` module in `sys.modules`. This may lead to undesirable behaviors or errors. To avoid these issues, avoid using distutils directly, ensure that setuptools is installed in the traditional way (e.g. not an editable install), and/or make sure that setuptools is always imported before distutils.\n",
      "  warnings.warn(\n",
      "c:\\Users\\VICTUS 16\\AppData\\Local\\Programs\\Python\\Python310\\lib\\site-packages\\_distutils_hack\\__init__.py:26: UserWarning: Setuptools is replacing distutils.\n",
      "  warnings.warn(\"Setuptools is replacing distutils.\")\n",
      "Registered model 'votting_ensemble_17_35_draw' already exists. Creating a new version of this model...\n",
      "Created version '3' of model 'votting_ensemble_17_35_draw'.\n"
     ]
    }
   ],
   "source": [
    "# Votting ensemble\n",
    "from sklearn.ensemble import VotingClassifier\n",
    "\n",
    "run_name = f'{league_id}_{target_col}_vottingEnsemble'\n",
    "\n",
    "with mlflow.start_run(run_name=run_name  , experiment_id=experiment_id):\n",
    "\n",
    "    # create and log model_parameters\n",
    "    model_params = {\n",
    "        'estimators' : classifiers\n",
    "    }\n",
    "\n",
    "    mlflow.log_params(model_params)\n",
    "\n",
    "    # initialize and train the model\n",
    "    votting_ensemble = VotingClassifier(**model_params , verbose=0)\n",
    "    votting_ensemble.fit(X_train , y_train)\n",
    "\n",
    "    # votting ensemble performance\n",
    "    votting_predictions = votting_ensemble.predict(X_test)\n",
    "    votting_performance = accuracy_score(y_test , votting_predictions)\n",
    "\n",
    "    # log performance\n",
    "    mlflow.log_metrics({'accuracy_score' : votting_performance})\n",
    "\n",
    "    # log the model\n",
    "    mlflow.sklearn.log_model(\n",
    "        sk_model=votting_ensemble,\n",
    "        artifact_path='models/votting_ensemble',\n",
    "        input_example=X_train,\n",
    "        registered_model_name=f'votting_ensemble_{league_id}_{target_col}'\n",
    "    )"
   ]
  },
  {
   "cell_type": "markdown",
   "metadata": {},
   "source": [
    "7. Stacking Ensemble"
   ]
  },
  {
   "cell_type": "code",
   "execution_count": 105,
   "metadata": {},
   "outputs": [
    {
     "name": "stderr",
     "output_type": "stream",
     "text": [
      "c:\\Users\\VICTUS 16\\AppData\\Local\\Programs\\Python\\Python310\\lib\\site-packages\\sklearn\\preprocessing\\_label.py:97: DataConversionWarning: A column-vector y was passed when a 1d array was expected. Please change the shape of y to (n_samples, ), for example using ravel().\n",
      "  y = column_or_1d(y, warn=True)\n",
      "c:\\Users\\VICTUS 16\\AppData\\Local\\Programs\\Python\\Python310\\lib\\site-packages\\sklearn\\preprocessing\\_label.py:132: DataConversionWarning: A column-vector y was passed when a 1d array was expected. Please change the shape of y to (n_samples, ), for example using ravel().\n",
      "  y = column_or_1d(y, dtype=self.classes_.dtype, warn=True)\n"
     ]
    },
    {
     "name": "stdout",
     "output_type": "stream",
     "text": [
      "Iteration 1, loss = 0.73221003\n",
      "Validation score: 0.752688\n",
      "Iteration 2, loss = 0.56155825\n",
      "Validation score: 0.752688\n",
      "Iteration 3, loss = 0.56094984\n",
      "Validation score: 0.752688\n",
      "Iteration 4, loss = 0.56058628\n",
      "Validation score: 0.752688\n",
      "Iteration 5, loss = 0.56109398\n",
      "Validation score: 0.752688\n",
      "Iteration 6, loss = 0.56066988\n",
      "Validation score: 0.752688\n",
      "Iteration 7, loss = 0.56100290\n",
      "Validation score: 0.752688\n",
      "Iteration 8, loss = 0.56038605\n",
      "Validation score: 0.752688\n",
      "Iteration 9, loss = 0.56099385\n",
      "Validation score: 0.752688\n",
      "Iteration 10, loss = 0.56129364\n",
      "Validation score: 0.752688\n",
      "Iteration 11, loss = 0.56380939\n",
      "Validation score: 0.752688\n",
      "Iteration 12, loss = 0.56724725\n",
      "Validation score: 0.752688\n",
      "Validation score did not improve more than tol=0.000100 for 10 consecutive epochs. Stopping.\n",
      "Iteration 1, loss = 0.85689382\n",
      "Validation score: 0.751121\n",
      "Iteration 2, loss = 0.56099517\n",
      "Validation score: 0.751121\n",
      "Iteration 3, loss = 0.56005599\n",
      "Validation score: 0.751121\n",
      "Iteration 4, loss = 0.56024116\n",
      "Validation score: 0.751121\n",
      "Iteration 5, loss = 0.56041650\n",
      "Validation score: 0.751121\n",
      "Iteration 6, loss = 0.56164937\n",
      "Validation score: 0.751121\n",
      "Iteration 7, loss = 0.56032026\n",
      "Validation score: 0.751121\n",
      "Iteration 8, loss = 0.56104404\n",
      "Validation score: 0.751121\n",
      "Iteration 9, loss = 0.56040750\n",
      "Validation score: 0.751121\n",
      "Iteration 10, loss = 0.56032166\n",
      "Validation score: 0.751121\n",
      "Iteration 11, loss = 0.56079889\n",
      "Validation score: 0.751121\n",
      "Iteration 12, loss = 0.56079029\n",
      "Validation score: 0.751121\n",
      "Validation score did not improve more than tol=0.000100 for 10 consecutive epochs. Stopping.\n",
      "Iteration 1, loss = 0.76721899\n",
      "Validation score: 0.751121\n",
      "Iteration 2, loss = 0.56415057\n",
      "Validation score: 0.751121\n",
      "Iteration 3, loss = 0.56065803\n",
      "Validation score: 0.751121\n",
      "Iteration 4, loss = 0.56204084\n",
      "Validation score: 0.751121\n",
      "Iteration 5, loss = 0.56231432\n",
      "Validation score: 0.751121\n",
      "Iteration 6, loss = 0.56057660\n",
      "Validation score: 0.751121\n",
      "Iteration 7, loss = 0.56198327\n",
      "Validation score: 0.751121\n",
      "Iteration 8, loss = 0.56161778\n",
      "Validation score: 0.751121\n",
      "Iteration 9, loss = 0.56290536\n",
      "Validation score: 0.751121\n",
      "Iteration 10, loss = 0.56074729\n",
      "Validation score: 0.751121\n",
      "Iteration 11, loss = 0.56149142\n",
      "Validation score: 0.751121\n",
      "Iteration 12, loss = 0.56067735\n",
      "Validation score: 0.751121\n",
      "Validation score did not improve more than tol=0.000100 for 10 consecutive epochs. Stopping.\n",
      "Iteration 1, loss = 0.75667378\n",
      "Validation score: 0.751121\n",
      "Iteration 2, loss = 0.56042851\n",
      "Validation score: 0.751121\n",
      "Iteration 3, loss = 0.55966539\n",
      "Validation score: 0.751121\n",
      "Iteration 4, loss = 0.56052766\n",
      "Validation score: 0.751121\n",
      "Iteration 5, loss = 0.56197026\n",
      "Validation score: 0.751121\n",
      "Iteration 6, loss = 0.56152850\n",
      "Validation score: 0.751121\n",
      "Iteration 7, loss = 0.56229451\n",
      "Validation score: 0.751121\n",
      "Iteration 8, loss = 0.56164490\n",
      "Validation score: 0.751121\n",
      "Iteration 9, loss = 0.56311194\n",
      "Validation score: 0.751121\n",
      "Iteration 10, loss = 0.56074205\n",
      "Validation score: 0.751121\n",
      "Iteration 11, loss = 0.56146308\n",
      "Validation score: 0.751121\n",
      "Iteration 12, loss = 0.55885238\n",
      "Validation score: 0.751121\n",
      "Validation score did not improve more than tol=0.000100 for 10 consecutive epochs. Stopping.\n",
      "Iteration 1, loss = 0.75684664\n",
      "Validation score: 0.751121\n",
      "Iteration 2, loss = 0.56245669\n",
      "Validation score: 0.751121\n",
      "Iteration 3, loss = 0.56062041\n",
      "Validation score: 0.751121\n",
      "Iteration 4, loss = 0.56311903\n",
      "Validation score: 0.751121\n",
      "Iteration 5, loss = 0.56368078\n",
      "Validation score: 0.751121\n",
      "Iteration 6, loss = 0.56078301\n",
      "Validation score: 0.751121\n",
      "Iteration 7, loss = 0.56203916\n",
      "Validation score: 0.751121\n",
      "Iteration 8, loss = 0.56178356\n",
      "Validation score: 0.751121\n",
      "Iteration 9, loss = 0.56316906\n",
      "Validation score: 0.751121\n",
      "Iteration 10, loss = 0.56076179\n",
      "Validation score: 0.751121\n",
      "Iteration 11, loss = 0.56152638\n",
      "Validation score: 0.751121\n",
      "Iteration 12, loss = 0.56070021\n",
      "Validation score: 0.751121\n",
      "Validation score did not improve more than tol=0.000100 for 10 consecutive epochs. Stopping.\n",
      "Iteration 1, loss = 0.76015927\n",
      "Validation score: 0.751121\n",
      "Iteration 2, loss = 0.56131228\n",
      "Validation score: 0.751121\n",
      "Iteration 3, loss = 0.56089831\n",
      "Validation score: 0.751121\n",
      "Iteration 4, loss = 0.56186069\n",
      "Validation score: 0.751121\n",
      "Iteration 5, loss = 0.56205589\n",
      "Validation score: 0.751121\n",
      "Iteration 6, loss = 0.56034317\n",
      "Validation score: 0.751121\n",
      "Iteration 7, loss = 0.56181450\n",
      "Validation score: 0.751121\n",
      "Iteration 8, loss = 0.56145431\n",
      "Validation score: 0.751121\n",
      "Iteration 9, loss = 0.56281530\n",
      "Validation score: 0.751121\n",
      "Iteration 10, loss = 0.56049464\n",
      "Validation score: 0.751121\n",
      "Iteration 11, loss = 0.56118192\n",
      "Validation score: 0.751121\n",
      "Iteration 12, loss = 0.56042287\n",
      "Validation score: 0.751121\n",
      "Validation score did not improve more than tol=0.000100 for 10 consecutive epochs. Stopping.\n"
     ]
    },
    {
     "name": "stderr",
     "output_type": "stream",
     "text": [
      "c:\\Users\\VICTUS 16\\AppData\\Local\\Programs\\Python\\Python310\\lib\\site-packages\\mlflow\\types\\utils.py:393: UserWarning: Hint: Inferred schema contains integer column(s). Integer columns in Python cannot represent missing values. If your input data contains missing values at inference time, it will be encoded as floats and will cause a schema enforcement error. The best way to avoid this problem is to infer the model schema based on a realistic data sample (training dataset) that includes missing values. Alternatively, you can declare integer columns as doubles (float64) whenever these columns may have missing values. See `Handling Integers With Missing Values <https://www.mlflow.org/docs/latest/models.html#handling-integers-with-missing-values>`_ for more details.\n",
      "  warnings.warn(\n",
      "c:\\Users\\VICTUS 16\\AppData\\Local\\Programs\\Python\\Python310\\lib\\site-packages\\_distutils_hack\\__init__.py:11: UserWarning: Distutils was imported before Setuptools, but importing Setuptools also replaces the `distutils` module in `sys.modules`. This may lead to undesirable behaviors or errors. To avoid these issues, avoid using distutils directly, ensure that setuptools is installed in the traditional way (e.g. not an editable install), and/or make sure that setuptools is always imported before distutils.\n",
      "  warnings.warn(\n",
      "c:\\Users\\VICTUS 16\\AppData\\Local\\Programs\\Python\\Python310\\lib\\site-packages\\_distutils_hack\\__init__.py:26: UserWarning: Setuptools is replacing distutils.\n",
      "  warnings.warn(\"Setuptools is replacing distutils.\")\n",
      "Successfully registered model 'stacking_ensemble_17_35_draw'.\n",
      "Created version '1' of model 'stacking_ensemble_17_35_draw'.\n"
     ]
    }
   ],
   "source": [
    "# Stacking ensemble\n",
    "from sklearn.ensemble import StackingClassifier\n",
    "\n",
    "run_name = f'{league_id}_{target_col}_stackingEnsemble'\n",
    "\n",
    "with mlflow.start_run(run_name=run_name , experiment_id=experiment_id):\n",
    "\n",
    "    # create and log model_parameters\n",
    "    model_params = {\n",
    "        'estimators' : classifiers,\n",
    "        'final_estimator' : svm_cls\n",
    "    }\n",
    "\n",
    "    mlflow.log_params(model_params)\n",
    "\n",
    "    # initialize and train the model\n",
    "    stacking_ensemble = StackingClassifier(estimators=classifiers , final_estimator=svm_cls)\n",
    "    stacking_ensemble.fit(X_train , y_train)\n",
    "\n",
    "    # Stacking ensemble performace\n",
    "    stacking_predictions = stacking_ensemble.predict(X_test)\n",
    "    stacking_performance = accuracy_score(y_test , stacking_predictions)\n",
    "\n",
    "    # log performance\n",
    "    mlflow.log_metrics({'accuracy_score' : stacking_performance})\n",
    "\n",
    "    # log model\n",
    "    mlflow.sklearn.log_model(\n",
    "        sk_model = stacking_ensemble,\n",
    "        artifact_path='models/stacking_ensemble',\n",
    "        input_example=X_train,\n",
    "        registered_model_name=f'stacking_ensemble_{league_id}_{target_col}'\n",
    "    )\n",
    "    "
   ]
  },
  {
   "cell_type": "code",
   "execution_count": 106,
   "metadata": {},
   "outputs": [
    {
     "name": "stdout",
     "output_type": "stream",
     "text": [
      "Votting Ensemble : 0.7689822294022617\n",
      "Stacking Ensemble : 0.7689822294022617\n"
     ]
    }
   ],
   "source": [
    "print(f'Votting Ensemble : {votting_performance}')\n",
    "print(f'Stacking Ensemble : {stacking_performance}')"
   ]
  }
 ],
 "metadata": {
  "kernelspec": {
   "display_name": "Python 3",
   "language": "python",
   "name": "python3"
  },
  "language_info": {
   "codemirror_mode": {
    "name": "ipython",
    "version": 3
   },
   "file_extension": ".py",
   "mimetype": "text/x-python",
   "name": "python",
   "nbconvert_exporter": "python",
   "pygments_lexer": "ipython3",
   "version": "3.10.2"
  }
 },
 "nbformat": 4,
 "nbformat_minor": 2
}
