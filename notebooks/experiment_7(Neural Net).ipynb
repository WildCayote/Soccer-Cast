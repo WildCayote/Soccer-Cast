{
 "cells": [
  {
   "cell_type": "markdown",
   "metadata": {},
   "source": [
    "## Experimenting with Multi-Label Neural Net Classifier"
   ]
  },
  {
   "cell_type": "markdown",
   "metadata": {},
   "source": [
    "Import Statement"
   ]
  },
  {
   "cell_type": "code",
   "execution_count": 110,
   "metadata": {},
   "outputs": [],
   "source": [
    "import tensorflow as tf\n",
    "from sklearn.model_selection import train_test_split\n",
    "import pandas as pd\n",
    "import os"
   ]
  },
  {
   "cell_type": "markdown",
   "metadata": {},
   "source": [
    "Verify GPU Availability"
   ]
  },
  {
   "cell_type": "code",
   "execution_count": 111,
   "metadata": {},
   "outputs": [
    {
     "name": "stdout",
     "output_type": "stream",
     "text": [
      "Num GPUs Available:  1\n"
     ]
    }
   ],
   "source": [
    "print(\"Num GPUs Available: \", len(tf.config.experimental.list_physical_devices('GPU')))"
   ]
  },
  {
   "cell_type": "markdown",
   "metadata": {},
   "source": [
    "Use the gpu"
   ]
  },
  {
   "cell_type": "code",
   "execution_count": 112,
   "metadata": {},
   "outputs": [],
   "source": [
    "gpus = tf.config.experimental.list_physical_devices('GPU')\n",
    "if gpus:\n",
    "    try:\n",
    "        # Restrict TensorFlow to only use the first GPU\n",
    "        tf.config.experimental.set_visible_devices(gpus[0], 'GPU')\n",
    "    except RuntimeError as e:\n",
    "        print(e)"
   ]
  },
  {
   "cell_type": "markdown",
   "metadata": {},
   "source": [
    "Constants"
   ]
  },
  {
   "cell_type": "code",
   "execution_count": 113,
   "metadata": {},
   "outputs": [
    {
     "name": "stdout",
     "output_type": "stream",
     "text": [
      "True\n"
     ]
    }
   ],
   "source": [
    "data_path = '../data/processed/final.csv'\n",
    "print(os.path.exists(data_path))"
   ]
  },
  {
   "cell_type": "markdown",
   "metadata": {},
   "source": [
    "Load the data"
   ]
  },
  {
   "cell_type": "code",
   "execution_count": 114,
   "metadata": {},
   "outputs": [],
   "source": [
    "df = pd.read_csv(data_path)"
   ]
  },
  {
   "cell_type": "markdown",
   "metadata": {},
   "source": [
    "Print our the columns and define the features and taregts within a list"
   ]
  },
  {
   "cell_type": "code",
   "execution_count": 115,
   "metadata": {},
   "outputs": [
    {
     "data": {
      "text/plain": [
       "Index(['id', 'home_team', 'away_team', 'home_score', 'away_score', 'result',\n",
       "       'home_attack_strength', 'home_defence_strength', 'away_attack_strength',\n",
       "       'away_defence_strength', 'home_score_avg', 'away_score_avg',\n",
       "       'home_expected_goal', 'away_expected_goal', 'home_elo', 'away_elo', '1',\n",
       "       '2', 'x', '12', '1x', '2x', 'ov0.5', 'un0.5', 'ov1.5', 'un1.5', 'ov2.5',\n",
       "       'un2.5', 'ov3.5', 'un3.5', 'ov4.5', 'un4.5', 'num_home_games',\n",
       "       'num_away_games', 'home_win', 'away_win', 'home_double', 'away_double',\n",
       "       'under0.5', 'under1.5', 'under2.5', 'under3.5', 'under4.5', 'draw'],\n",
       "      dtype='object')"
      ]
     },
     "execution_count": 115,
     "metadata": {},
     "output_type": "execute_result"
    }
   ],
   "source": [
    "df.columns"
   ]
  },
  {
   "cell_type": "code",
   "execution_count": 116,
   "metadata": {},
   "outputs": [],
   "source": [
    "FEATURES = ['home_attack_strength', 'home_defence_strength', 'away_attack_strength',\n",
    "           'away_defence_strength', 'home_expected_goal', 'away_expected_goal']\n",
    "# TARGETS = ['home_win' , 'draw' , 'away_win' , 'home_double' , 'away_double']\n",
    "# TARGETS = ['home_win' , 'draw' , 'away_win' , 'under0.5' , 'under1.5' , 'under2.5' , 'under3.5']\n",
    "TARGETS = ['home_win' , 'draw' , 'away_win']\n"
   ]
  },
  {
   "cell_type": "markdown",
   "metadata": {},
   "source": [
    "Drop games with less than 3 matches by each teams"
   ]
  },
  {
   "cell_type": "code",
   "execution_count": 117,
   "metadata": {},
   "outputs": [],
   "source": [
    "min_games = 5\n",
    "df = df[(df['num_home_games'] >= min_games) & (df['num_away_games'] >= min_games)]"
   ]
  },
  {
   "cell_type": "markdown",
   "metadata": {},
   "source": [
    "Select the relevant columns only, i.e features and targets"
   ]
  },
  {
   "cell_type": "code",
   "execution_count": 118,
   "metadata": {},
   "outputs": [],
   "source": [
    "cols = [*FEATURES , *TARGETS]\n",
    "drop_cols = [col for col in df.columns if col not in cols]\n",
    "\n",
    "df = df.drop(columns=drop_cols)"
   ]
  },
  {
   "cell_type": "markdown",
   "metadata": {},
   "source": [
    "Remove na values"
   ]
  },
  {
   "cell_type": "code",
   "execution_count": 119,
   "metadata": {},
   "outputs": [
    {
     "data": {
      "text/plain": [
       "{'home_attack_strength': 0,\n",
       " 'home_defence_strength': 0,\n",
       " 'away_attack_strength': 0,\n",
       " 'away_defence_strength': 0,\n",
       " 'home_expected_goal': 0,\n",
       " 'away_expected_goal': 0,\n",
       " 'home_win': 0,\n",
       " 'away_win': 0,\n",
       " 'draw': 0}"
      ]
     },
     "execution_count": 119,
     "metadata": {},
     "output_type": "execute_result"
    }
   ],
   "source": [
    "null_holder = df.isna().sum().to_dict()\n",
    "null_holder"
   ]
  },
  {
   "cell_type": "code",
   "execution_count": 120,
   "metadata": {},
   "outputs": [],
   "source": [
    "df = df.dropna()"
   ]
  },
  {
   "cell_type": "code",
   "execution_count": 121,
   "metadata": {},
   "outputs": [
    {
     "data": {
      "text/plain": [
       "{'home_attack_strength': 0,\n",
       " 'home_defence_strength': 0,\n",
       " 'away_attack_strength': 0,\n",
       " 'away_defence_strength': 0,\n",
       " 'home_expected_goal': 0,\n",
       " 'away_expected_goal': 0,\n",
       " 'home_win': 0,\n",
       " 'away_win': 0,\n",
       " 'draw': 0}"
      ]
     },
     "execution_count": 121,
     "metadata": {},
     "output_type": "execute_result"
    }
   ],
   "source": [
    "null_holder = df.isna().sum().to_dict()\n",
    "null_holder"
   ]
  },
  {
   "cell_type": "code",
   "execution_count": 122,
   "metadata": {},
   "outputs": [
    {
     "data": {
      "text/plain": [
       "(402425, 9)"
      ]
     },
     "execution_count": 122,
     "metadata": {},
     "output_type": "execute_result"
    }
   ],
   "source": [
    "df.shape"
   ]
  },
  {
   "cell_type": "markdown",
   "metadata": {},
   "source": [
    "Separate the target values from the features values"
   ]
  },
  {
   "cell_type": "code",
   "execution_count": 123,
   "metadata": {},
   "outputs": [],
   "source": [
    "x_values = df.drop(columns=TARGETS)\n",
    "y_values = df.drop(columns=FEATURES)"
   ]
  },
  {
   "cell_type": "markdown",
   "metadata": {},
   "source": [
    "Split the data into training , validation and testing sets. 80 - 10 - 10 "
   ]
  },
  {
   "cell_type": "code",
   "execution_count": 124,
   "metadata": {},
   "outputs": [],
   "source": [
    "# first split the data into two parts , 80 - 20 , the 80 will be the training set\n",
    "x_train , x_remaining , y_train , y_remaining = train_test_split(x_values , y_values , test_size=.2 , random_state=7)\n",
    "\n",
    "# now split the remaining data into two parts , 50 - 50 , which will result in 10% for both validation set and testing set\n",
    "x_validation , x_test , y_validation , y_test = train_test_split(x_remaining , y_remaining , test_size=.5 , random_state=7)  "
   ]
  },
  {
   "cell_type": "markdown",
   "metadata": {},
   "source": [
    "Normalize the data"
   ]
  },
  {
   "cell_type": "code",
   "execution_count": 125,
   "metadata": {},
   "outputs": [],
   "source": [
    "from sklearn import preprocessing\n",
    "\n",
    "normalizer = preprocessing.Normalizer()\n",
    "\n",
    "# normalize the training data\n",
    "x_train = normalizer.fit_transform(x_train)\n",
    "\n",
    "# normalize the validation data\n",
    "x_validation = normalizer.transform(x_validation)"
   ]
  },
  {
   "cell_type": "markdown",
   "metadata": {},
   "source": [
    "Building the neural network"
   ]
  },
  {
   "cell_type": "code",
   "execution_count": 126,
   "metadata": {},
   "outputs": [
    {
     "name": "stdout",
     "output_type": "stream",
     "text": [
      "Model: \"sequential_4\"\n",
      "_________________________________________________________________\n",
      " Layer (type)                Output Shape              Param #   \n",
      "=================================================================\n",
      " dense_20 (Dense)            (None, 128)               896       \n",
      "                                                                 \n",
      " dense_21 (Dense)            (None, 128)               16512     \n",
      "                                                                 \n",
      " dense_22 (Dense)            (None, 64)                8256      \n",
      "                                                                 \n",
      " dense_23 (Dense)            (None, 32)                2080      \n",
      "                                                                 \n",
      " dense_24 (Dense)            (None, 3)                 99        \n",
      "                                                                 \n",
      "=================================================================\n",
      "Total params: 27,843\n",
      "Trainable params: 27,843\n",
      "Non-trainable params: 0\n",
      "_________________________________________________________________\n"
     ]
    }
   ],
   "source": [
    "model = tf.keras.Sequential()\n",
    "model.add(tf.keras.layers.Input(shape=(len(FEATURES),)))\n",
    "model.add(tf.keras.layers.Dense(units=128 , activation='relu'))\n",
    "model.add(tf.keras.layers.Dense(units=128 , activation='relu'))\n",
    "model.add(tf.keras.layers.Dense(units=64 , activation='relu'))\n",
    "model.add(tf.keras.layers.Dense(units=32 , activation='relu'))\n",
    "model.add(tf.keras.layers.Dense(units=len(TARGETS) , activation='softmax'))\n",
    "\n",
    "optimizer = tf.keras.optimizers.Adam(\n",
    "    learning_rate=0.01,   \n",
    "    beta_1=0.9,             \n",
    "    beta_2=0.999,           \n",
    "    epsilon=1e-4            \n",
    ")\n",
    "\n",
    "model.compile(optimizer=optimizer , loss='categorical_crossentropy' , metrics=['accuracy'])\n",
    "model.summary()"
   ]
  },
  {
   "cell_type": "code",
   "execution_count": 127,
   "metadata": {},
   "outputs": [],
   "source": [
    "log_path = '/logs'\n",
    "tensorboard_callback = tf.keras.callbacks.TensorBoard(log_dir=log_path)\n",
    "earlystop_callback = tf.keras.callbacks.EarlyStopping(\n",
    "    monitor='loss',\n",
    "    min_delta = 1e-7,\n",
    "    patience=5,\n",
    "    mode='auto',\n",
    "    verbose=1,\n",
    "    restore_best_weights=True\n",
    ")"
   ]
  },
  {
   "cell_type": "markdown",
   "metadata": {},
   "source": [
    "Training the Model"
   ]
  },
  {
   "cell_type": "code",
   "execution_count": 128,
   "metadata": {},
   "outputs": [
    {
     "name": "stdout",
     "output_type": "stream",
     "text": [
      "Epoch 1/30\n",
      "2516/2516 [==============================] - 7s 3ms/step - loss: 0.9889 - accuracy: 0.5267 - val_loss: 0.9867 - val_accuracy: 0.5261\n",
      "Epoch 2/30\n",
      "2516/2516 [==============================] - 6s 2ms/step - loss: 0.9864 - accuracy: 0.5275 - val_loss: 0.9863 - val_accuracy: 0.5251\n",
      "Epoch 3/30\n",
      "2516/2516 [==============================] - 6s 2ms/step - loss: 0.9855 - accuracy: 0.5282 - val_loss: 0.9887 - val_accuracy: 0.5254\n",
      "Epoch 4/30\n",
      "2516/2516 [==============================] - 6s 2ms/step - loss: 0.9857 - accuracy: 0.5283 - val_loss: 0.9891 - val_accuracy: 0.5229\n",
      "Epoch 5/30\n",
      "2516/2516 [==============================] - 6s 2ms/step - loss: 0.9852 - accuracy: 0.5285 - val_loss: 0.9868 - val_accuracy: 0.5248\n",
      "Epoch 6/30\n",
      "2516/2516 [==============================] - 6s 2ms/step - loss: 0.9849 - accuracy: 0.5287 - val_loss: 0.9861 - val_accuracy: 0.5257\n",
      "Epoch 7/30\n",
      "2516/2516 [==============================] - 6s 2ms/step - loss: 0.9848 - accuracy: 0.5287 - val_loss: 0.9869 - val_accuracy: 0.5262\n",
      "Epoch 8/30\n",
      "2516/2516 [==============================] - 6s 2ms/step - loss: 0.9846 - accuracy: 0.5288 - val_loss: 0.9894 - val_accuracy: 0.5257\n",
      "Epoch 9/30\n",
      "2516/2516 [==============================] - 6s 2ms/step - loss: 0.9845 - accuracy: 0.5287 - val_loss: 0.9857 - val_accuracy: 0.5266\n",
      "Epoch 10/30\n",
      "2516/2516 [==============================] - 6s 2ms/step - loss: 0.9848 - accuracy: 0.5287 - val_loss: 0.9862 - val_accuracy: 0.5258\n",
      "Epoch 11/30\n",
      "2516/2516 [==============================] - 6s 2ms/step - loss: 0.9843 - accuracy: 0.5289 - val_loss: 0.9864 - val_accuracy: 0.5252\n",
      "Epoch 12/30\n",
      "2516/2516 [==============================] - 6s 2ms/step - loss: 0.9845 - accuracy: 0.5293 - val_loss: 0.9903 - val_accuracy: 0.5246\n",
      "Epoch 13/30\n",
      "2516/2516 [==============================] - 6s 2ms/step - loss: 0.9848 - accuracy: 0.5282 - val_loss: 0.9859 - val_accuracy: 0.5253\n",
      "Epoch 14/30\n",
      "2516/2516 [==============================] - 6s 2ms/step - loss: 0.9845 - accuracy: 0.5289 - val_loss: 0.9908 - val_accuracy: 0.5255\n",
      "Epoch 15/30\n",
      "2516/2516 [==============================] - 6s 2ms/step - loss: 0.9843 - accuracy: 0.5294 - val_loss: 0.9878 - val_accuracy: 0.5242\n",
      "Epoch 16/30\n",
      "2516/2516 [==============================] - 6s 2ms/step - loss: 0.9842 - accuracy: 0.5290 - val_loss: 0.9880 - val_accuracy: 0.5257\n",
      "Epoch 17/30\n",
      "2516/2516 [==============================] - 6s 2ms/step - loss: 0.9843 - accuracy: 0.5290 - val_loss: 0.9896 - val_accuracy: 0.5264\n",
      "Epoch 18/30\n",
      "2516/2516 [==============================] - 6s 2ms/step - loss: 0.9842 - accuracy: 0.5293 - val_loss: 0.9885 - val_accuracy: 0.5260\n",
      "Epoch 19/30\n",
      "2516/2516 [==============================] - 6s 2ms/step - loss: 0.9839 - accuracy: 0.5293 - val_loss: 0.9859 - val_accuracy: 0.5264\n",
      "Epoch 20/30\n",
      "2516/2516 [==============================] - 7s 3ms/step - loss: 0.9847 - accuracy: 0.5290 - val_loss: 0.9874 - val_accuracy: 0.5249\n",
      "Epoch 21/30\n",
      "2516/2516 [==============================] - 7s 3ms/step - loss: 0.9843 - accuracy: 0.5285 - val_loss: 0.9887 - val_accuracy: 0.5225\n",
      "Epoch 22/30\n",
      "2516/2516 [==============================] - 6s 2ms/step - loss: 0.9845 - accuracy: 0.5290 - val_loss: 0.9902 - val_accuracy: 0.5265\n",
      "Epoch 23/30\n",
      "2516/2516 [==============================] - 6s 2ms/step - loss: 0.9842 - accuracy: 0.5290 - val_loss: 0.9857 - val_accuracy: 0.5263\n",
      "Epoch 24/30\n",
      "2493/2516 [============================>.] - ETA: 0s - loss: 0.9845 - accuracy: 0.5289Restoring model weights from the end of the best epoch: 19.\n",
      "2516/2516 [==============================] - 6s 2ms/step - loss: 0.9843 - accuracy: 0.5290 - val_loss: 0.9937 - val_accuracy: 0.5241\n",
      "Epoch 24: early stopping\n"
     ]
    }
   ],
   "source": [
    "training_history = model.fit(x=x_train , y=y_train , batch_size=128 , validation_data=(x_validation , y_validation) , callbacks=[tensorboard_callback , earlystop_callback] , epochs=30)"
   ]
  },
  {
   "cell_type": "markdown",
   "metadata": {},
   "source": [
    "Plot the loss and accuracy graphs"
   ]
  },
  {
   "cell_type": "code",
   "execution_count": 129,
   "metadata": {},
   "outputs": [
    {
     "data": {
      "image/png": "[encoded data removed]",
      "text/plain": [
       "<Figure size 1200x500 with 2 Axes>"
      ]
     },
     "metadata": {},
     "output_type": "display_data"
    }
   ],
   "source": [
    "import matplotlib.pyplot as plt\n",
    "\n",
    "# Extract loss and accuracy from the training history\n",
    "train_loss = training_history.history['loss']\n",
    "val_loss = training_history.history['val_loss']\n",
    "train_accuracy = training_history.history['accuracy']\n",
    "val_accuracy = training_history.history['val_accuracy']\n",
    "\n",
    "# Plotting loss\n",
    "plt.figure(figsize=(12, 5))\n",
    "\n",
    "plt.subplot(1, 2, 1)\n",
    "plt.plot(train_loss, label='Training Loss')\n",
    "plt.plot(val_loss, label='Validation Loss')\n",
    "plt.title('Loss vs. Epochs')\n",
    "plt.xlabel('Epochs')\n",
    "plt.ylabel('Loss')\n",
    "plt.legend()\n",
    "\n",
    "# Plotting accuracy\n",
    "plt.subplot(1, 2, 2)\n",
    "plt.plot(train_accuracy, label='Training Accuracy')\n",
    "plt.plot(val_accuracy, label='Validation Accuracy')\n",
    "plt.title('Accuracy vs. Epochs')\n",
    "plt.xlabel('Epochs')\n",
    "plt.ylabel('Accuracy')\n",
    "plt.legend()\n",
    "\n",
    "plt.show()"
   ]
  },
  {
   "cell_type": "markdown",
   "metadata": {},
   "source": [
    "Test the model"
   ]
  },
  {
   "cell_type": "code",
   "execution_count": 130,
   "metadata": {},
   "outputs": [
    {
     "name": "stdout",
     "output_type": "stream",
     "text": [
      "1258/1258 [==============================] - 1s 950us/step\n"
     ]
    }
   ],
   "source": [
    "# normalize the test data\n",
    "x_test = normalizer.transform(x_test)\n",
    "\n",
    "predictions = model.predict(x=x_test)"
   ]
  },
  {
   "cell_type": "code",
   "execution_count": 131,
   "metadata": {},
   "outputs": [],
   "source": [
    "import numpy as np\n",
    "max_indices = np.argmax(predictions, axis=1)\n",
    "one_hot_encodings = np.zeros_like(predictions)\n",
    "one_hot_encodings[np.arange(predictions.shape[0]), max_indices] = 1"
   ]
  },
  {
   "cell_type": "code",
   "execution_count": 132,
   "metadata": {},
   "outputs": [],
   "source": [
    "from sklearn.metrics import accuracy_score\n",
    "\n",
    "accuracy = accuracy_score(y_test , one_hot_encodings)"
   ]
  },
  {
   "cell_type": "code",
   "execution_count": 133,
   "metadata": {},
   "outputs": [
    {
     "data": {
      "text/plain": [
       "0.5277936535546555"
      ]
     },
     "execution_count": 133,
     "metadata": {},
     "output_type": "execute_result"
    }
   ],
   "source": [
    "accuracy"
   ]
  },
  {
   "cell_type": "code",
   "execution_count": 134,
   "metadata": {},
   "outputs": [
    {
     "name": "stdout",
     "output_type": "stream",
     "text": [
      "              0         1         2\n",
      "0      0.503310  0.245935  0.250755\n",
      "1      0.571684  0.208990  0.219326\n",
      "2      0.341746  0.408846  0.249409\n",
      "3      0.347318  0.401937  0.250745\n",
      "4      0.198644  0.604774  0.196582\n",
      "...         ...       ...       ...\n",
      "40238  0.607881  0.190622  0.201498\n",
      "40239  0.482918  0.264297  0.252785\n",
      "40240  0.557288  0.216326  0.226385\n",
      "40241  0.375536  0.367721  0.256743\n",
      "40242  0.251677  0.527766  0.220557\n",
      "\n",
      "[40243 rows x 3 columns]\n"
     ]
    }
   ],
   "source": [
    "predictions = pd.DataFrame(predictions)\n",
    "print(predictions)"
   ]
  },
  {
   "cell_type": "code",
   "execution_count": 135,
   "metadata": {},
   "outputs": [
    {
     "name": "stdout",
     "output_type": "stream",
     "text": [
      "        home_win  away_win  draw\n",
      "222534         1         0     0\n",
      "492925         0         1     0\n",
      "607224         1         0     0\n",
      "624285         0         0     1\n",
      "440333         1         0     0\n",
      "...          ...       ...   ...\n",
      "273560         1         0     0\n",
      "419783         0         0     1\n",
      "276670         0         1     0\n",
      "35010          0         1     0\n",
      "271993         0         1     0\n",
      "\n",
      "[40243 rows x 3 columns]\n"
     ]
    }
   ],
   "source": [
    "print(y_test)"
   ]
  },
  {
   "cell_type": "markdown",
   "metadata": {},
   "source": [
    "Now let us train the model on the remaining "
   ]
  }
 ],
 "metadata": {
  "kernelspec": {
   "display_name": "Python 3",
   "language": "python",
   "name": "python3"
  },
  "language_info": {
   "codemirror_mode": {
    "name": "ipython",
    "version": 3
   },
   "file_extension": ".py",
   "mimetype": "text/x-python",
   "name": "python",
   "nbconvert_exporter": "python",
   "pygments_lexer": "ipython3",
   "version": "3.10.2"
  }
 },
 "nbformat": 4,
 "nbformat_minor": 2
}
